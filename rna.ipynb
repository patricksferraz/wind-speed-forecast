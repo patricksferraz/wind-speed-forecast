{
 "cells": [
  {
   "cell_type": "code",
   "execution_count": 1,
   "metadata": {},
   "outputs": [],
   "source": [
    "from sklearn.model_selection import train_test_split\n",
    "from sklearn.metrics import classification_report\n",
    "from sklearn import preprocessing\n",
    "import matplotlib.pyplot as plt\n",
    "import tensorflow as tf\n",
    "import pandas as pd\n",
    "import numpy as np\n",
    "import matplotlib\n",
    "import joblib\n",
    "\n",
    "DATASET_OFFSET = 6"
   ]
  },
  {
   "cell_type": "code",
   "execution_count": 2,
   "metadata": {},
   "outputs": [],
   "source": [
    "args = {\n",
    "    \"dataset\": \"confidential/train150.txt\",\n",
    "    \"model\": \"out/wind_speed_nn.model\",\n",
    "    \"plot\": \"out/wind_speed_plot.png\",\n",
    "    \"norm\": \"out/wind_speed_norm\"\n",
    "}"
   ]
  },
  {
   "cell_type": "code",
   "execution_count": 3,
   "metadata": {},
   "outputs": [],
   "source": [
    "np.random.seed(8)"
   ]
  },
  {
   "cell_type": "code",
   "execution_count": 4,
   "metadata": {},
   "outputs": [],
   "source": [
    "dataframe = pd.read_csv(args[\"dataset\"], delimiter=\"\\t\", header=None)\n",
    "dataset = dataframe.values"
   ]
  },
  {
   "cell_type": "code",
   "execution_count": 5,
   "metadata": {},
   "outputs": [],
   "source": [
    "# dataset for execution of the prediction for next 1 hour\n",
    "# X = dataset[:-1]\n",
    "# Y = dataset[1:, 4]\n",
    "\n",
    "# dataset for execution of the prediction for next 6 hours\n",
    "X = dataset[:-6]\n",
    "Y = dataset[6:, 4]"
   ]
  },
  {
   "cell_type": "code",
   "execution_count": 6,
   "metadata": {},
   "outputs": [],
   "source": [
    "# partition the data into training and testing splits using 75% of\n",
    "# the data for training and the remaining 25% for testing\n",
    "(X_train, X_test, Y_train, Y_test) = train_test_split(\n",
    "    X, Y, test_size=0.25, random_state=42\n",
    ")"
   ]
  },
  {
   "cell_type": "code",
   "execution_count": 7,
   "metadata": {},
   "outputs": [
    {
     "data": {
      "text/plain": [
       "['out/wind_speed_norm_x.joblib']"
      ]
     },
     "execution_count": 7,
     "metadata": {},
     "output_type": "execute_result"
    }
   ],
   "source": [
    "scaler = preprocessing.MinMaxScaler()\n",
    "X_train = scaler.fit_transform(X_train)\n",
    "X_test = scaler.transform(X_test)\n",
    "\n",
    "# save scale of x\n",
    "joblib.dump(scaler, \"{}_x.joblib\".format(args[\"norm\"]))"
   ]
  },
  {
   "cell_type": "code",
   "execution_count": 8,
   "metadata": {},
   "outputs": [
    {
     "data": {
      "text/plain": [
       "['out/wind_speed_norm_y.joblib']"
      ]
     },
     "execution_count": 8,
     "metadata": {},
     "output_type": "execute_result"
    }
   ],
   "source": [
    "Y_train = scaler.fit_transform(Y_train.reshape(-1, 1))\n",
    "Y_test = scaler.transform(Y_test.reshape(-1, 1))\n",
    "\n",
    "# save scale of y\n",
    "joblib.dump(scaler, \"{}_y.joblib\".format(args[\"norm\"]))"
   ]
  },
  {
   "cell_type": "code",
   "execution_count": 9,
   "metadata": {},
   "outputs": [
    {
     "name": "stdout",
     "output_type": "stream",
     "text": [
      "WARNING:tensorflow:From /home/ferraz/.conda/envs/prediction-wind-speed-mp/lib/python3.6/site-packages/tensorflow/python/ops/resource_variable_ops.py:435: colocate_with (from tensorflow.python.framework.ops) is deprecated and will be removed in a future version.\n",
      "Instructions for updating:\n",
      "Colocations handled automatically by placer.\n"
     ]
    }
   ],
   "source": [
    "# define the 9-9-6-1 architecture using tf.keras\n",
    "model = tf.keras.models.Sequential()\n",
    "model.add(tf.keras.layers.Dense(9, input_shape=(9,), activation=\"tanh\"))\n",
    "model.add(tf.keras.layers.Dense(9, activation=\"tanh\"))\n",
    "model.add(tf.keras.layers.Dense(6, activation=\"tanh\"))\n",
    "model.add(tf.keras.layers.Dense(1, activation=\"linear\"))"
   ]
  },
  {
   "cell_type": "code",
   "execution_count": 10,
   "metadata": {},
   "outputs": [
    {
     "name": "stdout",
     "output_type": "stream",
     "text": [
      "[INFO] training network...\n",
      "WARNING:tensorflow:From /home/ferraz/.conda/envs/prediction-wind-speed-mp/lib/python3.6/site-packages/tensorflow/python/keras/utils/losses_utils.py:170: to_float (from tensorflow.python.ops.math_ops) is deprecated and will be removed in a future version.\n",
      "Instructions for updating:\n",
      "Use tf.cast instead.\n",
      "Train on 408 samples, validate on 136 samples\n",
      "WARNING:tensorflow:From /home/ferraz/.conda/envs/prediction-wind-speed-mp/lib/python3.6/site-packages/tensorflow/python/ops/math_ops.py:3066: to_int32 (from tensorflow.python.ops.math_ops) is deprecated and will be removed in a future version.\n",
      "Instructions for updating:\n",
      "Use tf.cast instead.\n",
      "Epoch 1/100\n",
      "408/408 [==============================] - 1s 3ms/sample - loss: 0.0602 - mean_absolute_error: 0.1989 - mean_squared_error: 0.0602 - val_loss: 0.0534 - val_mean_absolute_error: 0.1848 - val_mean_squared_error: 0.0534\n",
      "Epoch 2/100\n",
      "408/408 [==============================] - 0s 1ms/sample - loss: 0.0501 - mean_absolute_error: 0.1796 - mean_squared_error: 0.0501 - val_loss: 0.0632 - val_mean_absolute_error: 0.2096 - val_mean_squared_error: 0.0632\n",
      "Epoch 3/100\n",
      "408/408 [==============================] - 0s 1ms/sample - loss: 0.0484 - mean_absolute_error: 0.1761 - mean_squared_error: 0.0484 - val_loss: 0.0483 - val_mean_absolute_error: 0.1689 - val_mean_squared_error: 0.0483\n",
      "Epoch 4/100\n",
      "408/408 [==============================] - 0s 1ms/sample - loss: 0.0489 - mean_absolute_error: 0.1751 - mean_squared_error: 0.0489 - val_loss: 0.0476 - val_mean_absolute_error: 0.1683 - val_mean_squared_error: 0.0476\n",
      "Epoch 5/100\n",
      "408/408 [==============================] - 0s 1ms/sample - loss: 0.0476 - mean_absolute_error: 0.1742 - mean_squared_error: 0.0476 - val_loss: 0.0470 - val_mean_absolute_error: 0.1688 - val_mean_squared_error: 0.0470\n",
      "Epoch 6/100\n",
      "408/408 [==============================] - 0s 1ms/sample - loss: 0.0476 - mean_absolute_error: 0.1726 - mean_squared_error: 0.0476 - val_loss: 0.0476 - val_mean_absolute_error: 0.1668 - val_mean_squared_error: 0.0476\n",
      "Epoch 7/100\n",
      "408/408 [==============================] - 0s 1ms/sample - loss: 0.0462 - mean_absolute_error: 0.1743 - mean_squared_error: 0.0462 - val_loss: 0.0478 - val_mean_absolute_error: 0.1655 - val_mean_squared_error: 0.0478\n",
      "Epoch 8/100\n",
      "408/408 [==============================] - 0s 1ms/sample - loss: 0.0458 - mean_absolute_error: 0.1691 - mean_squared_error: 0.0458 - val_loss: 0.0468 - val_mean_absolute_error: 0.1668 - val_mean_squared_error: 0.0468\n",
      "Epoch 9/100\n",
      "408/408 [==============================] - 0s 1ms/sample - loss: 0.0452 - mean_absolute_error: 0.1700 - mean_squared_error: 0.0452 - val_loss: 0.0456 - val_mean_absolute_error: 0.1625 - val_mean_squared_error: 0.0456\n",
      "Epoch 10/100\n",
      "408/408 [==============================] - 0s 1ms/sample - loss: 0.0451 - mean_absolute_error: 0.1659 - mean_squared_error: 0.0451 - val_loss: 0.0456 - val_mean_absolute_error: 0.1635 - val_mean_squared_error: 0.0456\n",
      "Epoch 11/100\n",
      "408/408 [==============================] - 0s 1ms/sample - loss: 0.0447 - mean_absolute_error: 0.1682 - mean_squared_error: 0.0447 - val_loss: 0.0505 - val_mean_absolute_error: 0.1694 - val_mean_squared_error: 0.0505\n",
      "Epoch 12/100\n",
      "408/408 [==============================] - 0s 1ms/sample - loss: 0.0445 - mean_absolute_error: 0.1672 - mean_squared_error: 0.0445 - val_loss: 0.0473 - val_mean_absolute_error: 0.1719 - val_mean_squared_error: 0.0473\n",
      "Epoch 13/100\n",
      "408/408 [==============================] - 0s 1ms/sample - loss: 0.0438 - mean_absolute_error: 0.1655 - mean_squared_error: 0.0438 - val_loss: 0.0452 - val_mean_absolute_error: 0.1647 - val_mean_squared_error: 0.0452\n",
      "Epoch 14/100\n",
      "408/408 [==============================] - 0s 1ms/sample - loss: 0.0442 - mean_absolute_error: 0.1673 - mean_squared_error: 0.0442 - val_loss: 0.0477 - val_mean_absolute_error: 0.1638 - val_mean_squared_error: 0.0477\n",
      "Epoch 15/100\n",
      "408/408 [==============================] - 0s 1ms/sample - loss: 0.0436 - mean_absolute_error: 0.1674 - mean_squared_error: 0.0436 - val_loss: 0.0472 - val_mean_absolute_error: 0.1632 - val_mean_squared_error: 0.0472\n",
      "Epoch 16/100\n",
      "408/408 [==============================] - 0s 1ms/sample - loss: 0.0431 - mean_absolute_error: 0.1651 - mean_squared_error: 0.0431 - val_loss: 0.0459 - val_mean_absolute_error: 0.1626 - val_mean_squared_error: 0.0459\n",
      "Epoch 17/100\n",
      "408/408 [==============================] - 0s 1ms/sample - loss: 0.0439 - mean_absolute_error: 0.1665 - mean_squared_error: 0.0439 - val_loss: 0.0496 - val_mean_absolute_error: 0.1781 - val_mean_squared_error: 0.0496\n",
      "Epoch 18/100\n",
      "408/408 [==============================] - 0s 1ms/sample - loss: 0.0437 - mean_absolute_error: 0.1652 - mean_squared_error: 0.0437 - val_loss: 0.0474 - val_mean_absolute_error: 0.1629 - val_mean_squared_error: 0.0474\n",
      "Epoch 19/100\n",
      "408/408 [==============================] - 0s 1ms/sample - loss: 0.0423 - mean_absolute_error: 0.1660 - mean_squared_error: 0.0423 - val_loss: 0.0446 - val_mean_absolute_error: 0.1617 - val_mean_squared_error: 0.0446\n",
      "Epoch 20/100\n",
      "408/408 [==============================] - 0s 1ms/sample - loss: 0.0436 - mean_absolute_error: 0.1665 - mean_squared_error: 0.0436 - val_loss: 0.0501 - val_mean_absolute_error: 0.1669 - val_mean_squared_error: 0.0501\n",
      "Epoch 21/100\n",
      "408/408 [==============================] - 0s 1ms/sample - loss: 0.0419 - mean_absolute_error: 0.1645 - mean_squared_error: 0.0419 - val_loss: 0.0453 - val_mean_absolute_error: 0.1630 - val_mean_squared_error: 0.0453\n",
      "Epoch 22/100\n",
      "408/408 [==============================] - 0s 1ms/sample - loss: 0.0427 - mean_absolute_error: 0.1622 - mean_squared_error: 0.0427 - val_loss: 0.0474 - val_mean_absolute_error: 0.1625 - val_mean_squared_error: 0.0474\n",
      "Epoch 23/100\n",
      "408/408 [==============================] - 0s 1ms/sample - loss: 0.0422 - mean_absolute_error: 0.1600 - mean_squared_error: 0.0422 - val_loss: 0.0446 - val_mean_absolute_error: 0.1598 - val_mean_squared_error: 0.0446\n",
      "Epoch 24/100\n",
      "408/408 [==============================] - 0s 1ms/sample - loss: 0.0417 - mean_absolute_error: 0.1625 - mean_squared_error: 0.0417 - val_loss: 0.0506 - val_mean_absolute_error: 0.1822 - val_mean_squared_error: 0.0506\n",
      "Epoch 25/100\n",
      "408/408 [==============================] - 0s 1ms/sample - loss: 0.0427 - mean_absolute_error: 0.1641 - mean_squared_error: 0.0427 - val_loss: 0.0446 - val_mean_absolute_error: 0.1580 - val_mean_squared_error: 0.0446\n",
      "Epoch 26/100\n",
      "408/408 [==============================] - 0s 1ms/sample - loss: 0.0417 - mean_absolute_error: 0.1613 - mean_squared_error: 0.0417 - val_loss: 0.0487 - val_mean_absolute_error: 0.1774 - val_mean_squared_error: 0.0487\n",
      "Epoch 27/100\n",
      "408/408 [==============================] - 0s 1ms/sample - loss: 0.0415 - mean_absolute_error: 0.1610 - mean_squared_error: 0.0415 - val_loss: 0.0430 - val_mean_absolute_error: 0.1569 - val_mean_squared_error: 0.0430\n",
      "Epoch 28/100\n",
      "408/408 [==============================] - 0s 1ms/sample - loss: 0.0418 - mean_absolute_error: 0.1610 - mean_squared_error: 0.0418 - val_loss: 0.0460 - val_mean_absolute_error: 0.1590 - val_mean_squared_error: 0.0460\n",
      "Epoch 29/100\n",
      "408/408 [==============================] - 0s 1ms/sample - loss: 0.0415 - mean_absolute_error: 0.1597 - mean_squared_error: 0.0415 - val_loss: 0.0445 - val_mean_absolute_error: 0.1566 - val_mean_squared_error: 0.0445\n",
      "Epoch 30/100\n",
      "408/408 [==============================] - 0s 1ms/sample - loss: 0.0406 - mean_absolute_error: 0.1589 - mean_squared_error: 0.0406 - val_loss: 0.0436 - val_mean_absolute_error: 0.1615 - val_mean_squared_error: 0.0436\n",
      "Epoch 31/100\n",
      "408/408 [==============================] - 0s 1ms/sample - loss: 0.0407 - mean_absolute_error: 0.1603 - mean_squared_error: 0.0407 - val_loss: 0.0431 - val_mean_absolute_error: 0.1552 - val_mean_squared_error: 0.0431\n",
      "Epoch 32/100\n",
      "408/408 [==============================] - 0s 1ms/sample - loss: 0.0403 - mean_absolute_error: 0.1582 - mean_squared_error: 0.0403 - val_loss: 0.0419 - val_mean_absolute_error: 0.1551 - val_mean_squared_error: 0.0419\n",
      "Epoch 33/100\n",
      "408/408 [==============================] - 0s 1ms/sample - loss: 0.0395 - mean_absolute_error: 0.1553 - mean_squared_error: 0.0395 - val_loss: 0.0453 - val_mean_absolute_error: 0.1574 - val_mean_squared_error: 0.0453\n"
     ]
    },
    {
     "name": "stdout",
     "output_type": "stream",
     "text": [
      "Epoch 34/100\n",
      "408/408 [==============================] - 0s 1ms/sample - loss: 0.0392 - mean_absolute_error: 0.1554 - mean_squared_error: 0.0392 - val_loss: 0.0409 - val_mean_absolute_error: 0.1525 - val_mean_squared_error: 0.0409\n",
      "Epoch 35/100\n",
      "408/408 [==============================] - 0s 1ms/sample - loss: 0.0384 - mean_absolute_error: 0.1555 - mean_squared_error: 0.0384 - val_loss: 0.0412 - val_mean_absolute_error: 0.1501 - val_mean_squared_error: 0.0412\n",
      "Epoch 36/100\n",
      "408/408 [==============================] - 0s 1ms/sample - loss: 0.0377 - mean_absolute_error: 0.1509 - mean_squared_error: 0.0377 - val_loss: 0.0403 - val_mean_absolute_error: 0.1510 - val_mean_squared_error: 0.0403\n",
      "Epoch 37/100\n",
      "408/408 [==============================] - 0s 1ms/sample - loss: 0.0360 - mean_absolute_error: 0.1489 - mean_squared_error: 0.0360 - val_loss: 0.0382 - val_mean_absolute_error: 0.1467 - val_mean_squared_error: 0.0382\n",
      "Epoch 38/100\n",
      "408/408 [==============================] - 0s 1ms/sample - loss: 0.0356 - mean_absolute_error: 0.1473 - mean_squared_error: 0.0356 - val_loss: 0.0428 - val_mean_absolute_error: 0.1649 - val_mean_squared_error: 0.0428\n",
      "Epoch 39/100\n",
      "408/408 [==============================] - 0s 1ms/sample - loss: 0.0350 - mean_absolute_error: 0.1473 - mean_squared_error: 0.0350 - val_loss: 0.0372 - val_mean_absolute_error: 0.1448 - val_mean_squared_error: 0.0372\n",
      "Epoch 40/100\n",
      "408/408 [==============================] - 0s 1ms/sample - loss: 0.0346 - mean_absolute_error: 0.1468 - mean_squared_error: 0.0346 - val_loss: 0.0397 - val_mean_absolute_error: 0.1558 - val_mean_squared_error: 0.0397\n",
      "Epoch 41/100\n",
      "408/408 [==============================] - 0s 1ms/sample - loss: 0.0333 - mean_absolute_error: 0.1438 - mean_squared_error: 0.0333 - val_loss: 0.0379 - val_mean_absolute_error: 0.1463 - val_mean_squared_error: 0.0379\n",
      "Epoch 42/100\n",
      "408/408 [==============================] - 0s 1ms/sample - loss: 0.0332 - mean_absolute_error: 0.1438 - mean_squared_error: 0.0332 - val_loss: 0.0351 - val_mean_absolute_error: 0.1399 - val_mean_squared_error: 0.0351\n",
      "Epoch 43/100\n",
      "408/408 [==============================] - 0s 1ms/sample - loss: 0.0313 - mean_absolute_error: 0.1388 - mean_squared_error: 0.0313 - val_loss: 0.0391 - val_mean_absolute_error: 0.1485 - val_mean_squared_error: 0.0391\n",
      "Epoch 44/100\n",
      "408/408 [==============================] - 0s 1ms/sample - loss: 0.0308 - mean_absolute_error: 0.1370 - mean_squared_error: 0.0308 - val_loss: 0.0363 - val_mean_absolute_error: 0.1471 - val_mean_squared_error: 0.0363\n",
      "Epoch 45/100\n",
      "408/408 [==============================] - 0s 1ms/sample - loss: 0.0296 - mean_absolute_error: 0.1353 - mean_squared_error: 0.0296 - val_loss: 0.0336 - val_mean_absolute_error: 0.1396 - val_mean_squared_error: 0.0336\n",
      "Epoch 46/100\n",
      "408/408 [==============================] - 0s 1ms/sample - loss: 0.0295 - mean_absolute_error: 0.1363 - mean_squared_error: 0.0295 - val_loss: 0.0357 - val_mean_absolute_error: 0.1424 - val_mean_squared_error: 0.0357\n",
      "Epoch 47/100\n",
      "408/408 [==============================] - 0s 1ms/sample - loss: 0.0283 - mean_absolute_error: 0.1315 - mean_squared_error: 0.0283 - val_loss: 0.0369 - val_mean_absolute_error: 0.1460 - val_mean_squared_error: 0.0369\n",
      "Epoch 48/100\n",
      "408/408 [==============================] - 0s 1ms/sample - loss: 0.0281 - mean_absolute_error: 0.1294 - mean_squared_error: 0.0281 - val_loss: 0.0332 - val_mean_absolute_error: 0.1402 - val_mean_squared_error: 0.0332\n",
      "Epoch 49/100\n",
      "408/408 [==============================] - 0s 1ms/sample - loss: 0.0276 - mean_absolute_error: 0.1300 - mean_squared_error: 0.0276 - val_loss: 0.0315 - val_mean_absolute_error: 0.1346 - val_mean_squared_error: 0.0315\n",
      "Epoch 50/100\n",
      "408/408 [==============================] - 0s 1ms/sample - loss: 0.0270 - mean_absolute_error: 0.1294 - mean_squared_error: 0.0270 - val_loss: 0.0375 - val_mean_absolute_error: 0.1469 - val_mean_squared_error: 0.0375\n",
      "Epoch 51/100\n",
      "408/408 [==============================] - 0s 1ms/sample - loss: 0.0267 - mean_absolute_error: 0.1278 - mean_squared_error: 0.0267 - val_loss: 0.0309 - val_mean_absolute_error: 0.1327 - val_mean_squared_error: 0.0309\n",
      "Epoch 52/100\n",
      "408/408 [==============================] - 0s 1ms/sample - loss: 0.0263 - mean_absolute_error: 0.1282 - mean_squared_error: 0.0263 - val_loss: 0.0366 - val_mean_absolute_error: 0.1504 - val_mean_squared_error: 0.0366\n",
      "Epoch 53/100\n",
      "408/408 [==============================] - 0s 1ms/sample - loss: 0.0257 - mean_absolute_error: 0.1266 - mean_squared_error: 0.0257 - val_loss: 0.0314 - val_mean_absolute_error: 0.1318 - val_mean_squared_error: 0.0314\n",
      "Epoch 54/100\n",
      "408/408 [==============================] - 0s 1ms/sample - loss: 0.0260 - mean_absolute_error: 0.1256 - mean_squared_error: 0.0260 - val_loss: 0.0372 - val_mean_absolute_error: 0.1470 - val_mean_squared_error: 0.0372\n",
      "Epoch 55/100\n",
      "408/408 [==============================] - 0s 1ms/sample - loss: 0.0259 - mean_absolute_error: 0.1267 - mean_squared_error: 0.0259 - val_loss: 0.0323 - val_mean_absolute_error: 0.1339 - val_mean_squared_error: 0.0323\n",
      "Epoch 56/100\n",
      "408/408 [==============================] - 0s 1ms/sample - loss: 0.0259 - mean_absolute_error: 0.1248 - mean_squared_error: 0.0259 - val_loss: 0.0342 - val_mean_absolute_error: 0.1396 - val_mean_squared_error: 0.0342\n",
      "Epoch 57/100\n",
      "408/408 [==============================] - 0s 1ms/sample - loss: 0.0258 - mean_absolute_error: 0.1250 - mean_squared_error: 0.0258 - val_loss: 0.0308 - val_mean_absolute_error: 0.1323 - val_mean_squared_error: 0.0308\n",
      "Epoch 58/100\n",
      "408/408 [==============================] - 0s 1ms/sample - loss: 0.0245 - mean_absolute_error: 0.1212 - mean_squared_error: 0.0245 - val_loss: 0.0323 - val_mean_absolute_error: 0.1358 - val_mean_squared_error: 0.0323\n",
      "Epoch 59/100\n",
      "408/408 [==============================] - 0s 1ms/sample - loss: 0.0254 - mean_absolute_error: 0.1222 - mean_squared_error: 0.0254 - val_loss: 0.0308 - val_mean_absolute_error: 0.1330 - val_mean_squared_error: 0.0308\n",
      "Epoch 60/100\n",
      "408/408 [==============================] - 0s 1ms/sample - loss: 0.0252 - mean_absolute_error: 0.1239 - mean_squared_error: 0.0252 - val_loss: 0.0305 - val_mean_absolute_error: 0.1297 - val_mean_squared_error: 0.0305\n",
      "Epoch 61/100\n",
      "408/408 [==============================] - 0s 1ms/sample - loss: 0.0253 - mean_absolute_error: 0.1231 - mean_squared_error: 0.0253 - val_loss: 0.0313 - val_mean_absolute_error: 0.1310 - val_mean_squared_error: 0.0313\n",
      "Epoch 62/100\n",
      "408/408 [==============================] - 0s 1ms/sample - loss: 0.0237 - mean_absolute_error: 0.1179 - mean_squared_error: 0.0237 - val_loss: 0.0347 - val_mean_absolute_error: 0.1451 - val_mean_squared_error: 0.0347\n",
      "Epoch 63/100\n",
      "408/408 [==============================] - 0s 1ms/sample - loss: 0.0245 - mean_absolute_error: 0.1207 - mean_squared_error: 0.0245 - val_loss: 0.0303 - val_mean_absolute_error: 0.1312 - val_mean_squared_error: 0.0303\n",
      "Epoch 64/100\n",
      "408/408 [==============================] - 0s 1ms/sample - loss: 0.0248 - mean_absolute_error: 0.1211 - mean_squared_error: 0.0248 - val_loss: 0.0305 - val_mean_absolute_error: 0.1297 - val_mean_squared_error: 0.0305\n",
      "Epoch 65/100\n",
      "408/408 [==============================] - 0s 1ms/sample - loss: 0.0246 - mean_absolute_error: 0.1214 - mean_squared_error: 0.0246 - val_loss: 0.0304 - val_mean_absolute_error: 0.1319 - val_mean_squared_error: 0.0304\n",
      "Epoch 66/100\n",
      "408/408 [==============================] - 0s 1ms/sample - loss: 0.0248 - mean_absolute_error: 0.1201 - mean_squared_error: 0.0248 - val_loss: 0.0342 - val_mean_absolute_error: 0.1440 - val_mean_squared_error: 0.0342\n",
      "Epoch 67/100\n",
      "408/408 [==============================] - 0s 1ms/sample - loss: 0.0250 - mean_absolute_error: 0.1223 - mean_squared_error: 0.0250 - val_loss: 0.0304 - val_mean_absolute_error: 0.1310 - val_mean_squared_error: 0.0304\n",
      "Epoch 68/100\n",
      "408/408 [==============================] - 0s 1ms/sample - loss: 0.0245 - mean_absolute_error: 0.1209 - mean_squared_error: 0.0245 - val_loss: 0.0355 - val_mean_absolute_error: 0.1461 - val_mean_squared_error: 0.0355\n",
      "Epoch 69/100\n",
      "408/408 [==============================] - 0s 1ms/sample - loss: 0.0243 - mean_absolute_error: 0.1216 - mean_squared_error: 0.0243 - val_loss: 0.0335 - val_mean_absolute_error: 0.1417 - val_mean_squared_error: 0.0335\n"
     ]
    },
    {
     "name": "stdout",
     "output_type": "stream",
     "text": [
      "Epoch 70/100\n",
      "408/408 [==============================] - 0s 1ms/sample - loss: 0.0243 - mean_absolute_error: 0.1211 - mean_squared_error: 0.0243 - val_loss: 0.0307 - val_mean_absolute_error: 0.1303 - val_mean_squared_error: 0.0307\n",
      "Epoch 71/100\n",
      "408/408 [==============================] - 0s 1ms/sample - loss: 0.0238 - mean_absolute_error: 0.1205 - mean_squared_error: 0.0238 - val_loss: 0.0382 - val_mean_absolute_error: 0.1530 - val_mean_squared_error: 0.0382\n",
      "Epoch 72/100\n",
      "408/408 [==============================] - 0s 1ms/sample - loss: 0.0242 - mean_absolute_error: 0.1196 - mean_squared_error: 0.0242 - val_loss: 0.0342 - val_mean_absolute_error: 0.1446 - val_mean_squared_error: 0.0342\n",
      "Epoch 73/100\n",
      "408/408 [==============================] - 0s 1ms/sample - loss: 0.0242 - mean_absolute_error: 0.1195 - mean_squared_error: 0.0242 - val_loss: 0.0308 - val_mean_absolute_error: 0.1331 - val_mean_squared_error: 0.0308\n",
      "Epoch 74/100\n",
      "408/408 [==============================] - 0s 1ms/sample - loss: 0.0240 - mean_absolute_error: 0.1195 - mean_squared_error: 0.0240 - val_loss: 0.0299 - val_mean_absolute_error: 0.1282 - val_mean_squared_error: 0.0299\n",
      "Epoch 75/100\n",
      "408/408 [==============================] - 0s 1ms/sample - loss: 0.0233 - mean_absolute_error: 0.1173 - mean_squared_error: 0.0233 - val_loss: 0.0406 - val_mean_absolute_error: 0.1552 - val_mean_squared_error: 0.0406\n",
      "Epoch 76/100\n",
      "408/408 [==============================] - 0s 1ms/sample - loss: 0.0243 - mean_absolute_error: 0.1202 - mean_squared_error: 0.0243 - val_loss: 0.0311 - val_mean_absolute_error: 0.1330 - val_mean_squared_error: 0.0311\n",
      "Epoch 77/100\n",
      "408/408 [==============================] - 0s 1ms/sample - loss: 0.0233 - mean_absolute_error: 0.1176 - mean_squared_error: 0.0233 - val_loss: 0.0334 - val_mean_absolute_error: 0.1392 - val_mean_squared_error: 0.0334\n",
      "Epoch 78/100\n",
      "408/408 [==============================] - 0s 1ms/sample - loss: 0.0235 - mean_absolute_error: 0.1189 - mean_squared_error: 0.0235 - val_loss: 0.0315 - val_mean_absolute_error: 0.1329 - val_mean_squared_error: 0.0315\n",
      "Epoch 79/100\n",
      "408/408 [==============================] - 0s 1ms/sample - loss: 0.0240 - mean_absolute_error: 0.1192 - mean_squared_error: 0.0240 - val_loss: 0.0319 - val_mean_absolute_error: 0.1352 - val_mean_squared_error: 0.0319\n",
      "Epoch 80/100\n",
      "408/408 [==============================] - 0s 1ms/sample - loss: 0.0237 - mean_absolute_error: 0.1187 - mean_squared_error: 0.0237 - val_loss: 0.0315 - val_mean_absolute_error: 0.1341 - val_mean_squared_error: 0.0315\n",
      "Epoch 81/100\n",
      "408/408 [==============================] - 0s 1ms/sample - loss: 0.0230 - mean_absolute_error: 0.1160 - mean_squared_error: 0.0230 - val_loss: 0.0304 - val_mean_absolute_error: 0.1316 - val_mean_squared_error: 0.0304\n",
      "Epoch 82/100\n",
      "408/408 [==============================] - 0s 1ms/sample - loss: 0.0231 - mean_absolute_error: 0.1182 - mean_squared_error: 0.0231 - val_loss: 0.0336 - val_mean_absolute_error: 0.1392 - val_mean_squared_error: 0.0336\n",
      "Epoch 83/100\n",
      "408/408 [==============================] - 0s 1ms/sample - loss: 0.0237 - mean_absolute_error: 0.1198 - mean_squared_error: 0.0237 - val_loss: 0.0299 - val_mean_absolute_error: 0.1284 - val_mean_squared_error: 0.0299\n",
      "Epoch 84/100\n",
      "408/408 [==============================] - 0s 1ms/sample - loss: 0.0233 - mean_absolute_error: 0.1185 - mean_squared_error: 0.0233 - val_loss: 0.0298 - val_mean_absolute_error: 0.1282 - val_mean_squared_error: 0.0298\n",
      "Epoch 85/100\n",
      "408/408 [==============================] - 0s 1ms/sample - loss: 0.0231 - mean_absolute_error: 0.1162 - mean_squared_error: 0.0231 - val_loss: 0.0329 - val_mean_absolute_error: 0.1375 - val_mean_squared_error: 0.0329\n",
      "Epoch 86/100\n",
      "408/408 [==============================] - 0s 1ms/sample - loss: 0.0233 - mean_absolute_error: 0.1180 - mean_squared_error: 0.0233 - val_loss: 0.0323 - val_mean_absolute_error: 0.1360 - val_mean_squared_error: 0.0323\n",
      "Epoch 87/100\n",
      "408/408 [==============================] - 0s 1ms/sample - loss: 0.0235 - mean_absolute_error: 0.1171 - mean_squared_error: 0.0235 - val_loss: 0.0305 - val_mean_absolute_error: 0.1296 - val_mean_squared_error: 0.0305\n",
      "Epoch 88/100\n",
      "408/408 [==============================] - 0s 1ms/sample - loss: 0.0232 - mean_absolute_error: 0.1180 - mean_squared_error: 0.0232 - val_loss: 0.0308 - val_mean_absolute_error: 0.1306 - val_mean_squared_error: 0.0308\n",
      "Epoch 89/100\n",
      "408/408 [==============================] - 0s 1ms/sample - loss: 0.0233 - mean_absolute_error: 0.1186 - mean_squared_error: 0.0233 - val_loss: 0.0302 - val_mean_absolute_error: 0.1305 - val_mean_squared_error: 0.0302\n",
      "Epoch 90/100\n",
      "408/408 [==============================] - 0s 1ms/sample - loss: 0.0234 - mean_absolute_error: 0.1189 - mean_squared_error: 0.0234 - val_loss: 0.0304 - val_mean_absolute_error: 0.1313 - val_mean_squared_error: 0.0304\n",
      "Epoch 91/100\n",
      "408/408 [==============================] - 0s 1ms/sample - loss: 0.0233 - mean_absolute_error: 0.1170 - mean_squared_error: 0.0233 - val_loss: 0.0344 - val_mean_absolute_error: 0.1410 - val_mean_squared_error: 0.0344\n",
      "Epoch 92/100\n",
      "408/408 [==============================] - 0s 1ms/sample - loss: 0.0233 - mean_absolute_error: 0.1161 - mean_squared_error: 0.0233 - val_loss: 0.0301 - val_mean_absolute_error: 0.1307 - val_mean_squared_error: 0.0301\n",
      "Epoch 93/100\n",
      "408/408 [==============================] - 1s 1ms/sample - loss: 0.0232 - mean_absolute_error: 0.1190 - mean_squared_error: 0.0232 - val_loss: 0.0308 - val_mean_absolute_error: 0.1318 - val_mean_squared_error: 0.0308\n",
      "Epoch 94/100\n",
      "408/408 [==============================] - 0s 1ms/sample - loss: 0.0230 - mean_absolute_error: 0.1177 - mean_squared_error: 0.0230 - val_loss: 0.0337 - val_mean_absolute_error: 0.1392 - val_mean_squared_error: 0.0337\n",
      "Epoch 95/100\n",
      "408/408 [==============================] - 1s 1ms/sample - loss: 0.0232 - mean_absolute_error: 0.1161 - mean_squared_error: 0.0232 - val_loss: 0.0299 - val_mean_absolute_error: 0.1304 - val_mean_squared_error: 0.0299\n",
      "Epoch 96/100\n",
      "408/408 [==============================] - 0s 1ms/sample - loss: 0.0227 - mean_absolute_error: 0.1172 - mean_squared_error: 0.0227 - val_loss: 0.0299 - val_mean_absolute_error: 0.1298 - val_mean_squared_error: 0.0299\n",
      "Epoch 97/100\n",
      "408/408 [==============================] - 0s 1ms/sample - loss: 0.0232 - mean_absolute_error: 0.1170 - mean_squared_error: 0.0232 - val_loss: 0.0324 - val_mean_absolute_error: 0.1366 - val_mean_squared_error: 0.0324\n",
      "Epoch 98/100\n",
      "408/408 [==============================] - 0s 1ms/sample - loss: 0.0227 - mean_absolute_error: 0.1154 - mean_squared_error: 0.0227 - val_loss: 0.0297 - val_mean_absolute_error: 0.1285 - val_mean_squared_error: 0.0297\n",
      "Epoch 99/100\n",
      "408/408 [==============================] - 0s 1ms/sample - loss: 0.0231 - mean_absolute_error: 0.1167 - mean_squared_error: 0.0231 - val_loss: 0.0298 - val_mean_absolute_error: 0.1301 - val_mean_squared_error: 0.0298\n",
      "Epoch 100/100\n",
      "408/408 [==============================] - 0s 1ms/sample - loss: 0.0228 - mean_absolute_error: 0.1170 - mean_squared_error: 0.0228 - val_loss: 0.0306 - val_mean_absolute_error: 0.1307 - val_mean_squared_error: 0.0306\n"
     ]
    }
   ],
   "source": [
    "# initialize our initial learning rate and # of epochs to train for\n",
    "# INIT_LR = 0.01\n",
    "EPOCHS = 100\n",
    "\n",
    "# compile the model using SGD as our optimizer and categorical\n",
    "# cross-entropy loss (you'll want to use binary_crossentropy\n",
    "# for 2-class classification)\n",
    "print(\"[INFO] training network...\")\n",
    "# opt = tf.keras.optimizers.SGD(lr=INIT_LR)\n",
    "model.compile(loss=\"mse\", optimizer=\"sgd\", metrics=[\"mae\", \"mse\"])\n",
    "\n",
    "# train the neural network\n",
    "H = model.fit(\n",
    "    X_train,\n",
    "    Y_train,\n",
    "    validation_data=(X_test, Y_test),\n",
    "    epochs=EPOCHS,\n",
    "    batch_size=1,\n",
    ")"
   ]
  },
  {
   "cell_type": "code",
   "execution_count": 11,
   "metadata": {},
   "outputs": [
    {
     "name": "stdout",
     "output_type": "stream",
     "text": [
      "136/136 [==============================] - 1s 6ms/sample - loss: 0.0306 - mean_absolute_error: 0.1307 - mean_squared_error: 0.0306\n",
      "mean_absolute_error: 0.13068096339702606\n",
      "mean_squared_error: 0.030624520033597946\n"
     ]
    }
   ],
   "source": [
    "# evaluate the model\n",
    "scores = model.evaluate(X_test, Y_test)\n",
    "print(\n",
    "    \"{}: {}\\n{}: {}\".format(\n",
    "        model.metrics_names[1], scores[1], model.metrics_names[2], scores[2]\n",
    "    )\n",
    ")"
   ]
  },
  {
   "cell_type": "code",
   "execution_count": 12,
   "metadata": {},
   "outputs": [],
   "source": [
    "# evaluate the model\n",
    "# print(\"[INFO] evaluating network...\")\n",
    "# predictions = model.predict(testX, batch_size=1)\n",
    "# print(\n",
    "#     classification_report(\n",
    "#         testY.argmax(axis=1),\n",
    "#         predictions.argmax(axis=1),\n",
    "#         target_names=lb.classes_,\n",
    "#     )\n",
    "# )"
   ]
  },
  {
   "cell_type": "code",
   "execution_count": 13,
   "metadata": {},
   "outputs": [
    {
     "data": {
      "image/png": "[encoded data removed]",
      "text/plain": [
       "<Figure size 432x288 with 2 Axes>"
      ]
     },
     "metadata": {},
     "output_type": "display_data"
    }
   ],
   "source": [
    "# plot the training loss, MAE and MSE\n",
    "N = np.arange(0, EPOCHS)\n",
    "plt.style.use(\"ggplot\")\n",
    "_, axs = plt.subplots(2, 1, sharex=True)\n",
    "axs[0].plot(N, H.history[\"mean_squared_error\"], label=\"train_mse\")\n",
    "axs[0].plot(N, H.history[\"val_mean_squared_error\"], label=\"val_mse\")\n",
    "axs[0].set_title(\"Training MSE\")\n",
    "axs[0].set_ylabel(\"MSE\")\n",
    "axs[0].legend()\n",
    "axs[1].plot(N, H.history[\"mean_absolute_error\"], label=\"train_mae\")\n",
    "axs[1].plot(N, H.history[\"val_mean_absolute_error\"], label=\"val_mae\")\n",
    "axs[1].set_title(\"Training MAE\")\n",
    "axs[1].set_ylabel(\"MAE\")\n",
    "axs[1].legend()\n",
    "plt.tight_layout()\n",
    "plt.xlabel(\"Epoch #\")\n",
    "plt.savefig(args[\"plot\"])"
   ]
  },
  {
   "cell_type": "code",
   "execution_count": 14,
   "metadata": {},
   "outputs": [
    {
     "name": "stdout",
     "output_type": "stream",
     "text": [
      "[INFO] serializing network...\n"
     ]
    }
   ],
   "source": [
    "# save the model to disk\n",
    "print(\"[INFO] serializing network...\")\n",
    "model.save(args[\"model\"])"
   ]
  },
  {
   "cell_type": "code",
   "execution_count": null,
   "metadata": {},
   "outputs": [],
   "source": []
  }
 ],
 "metadata": {
  "kernelspec": {
   "display_name": "Python 3",
   "language": "python",
   "name": "python3"
  },
  "language_info": {
   "codemirror_mode": {
    "name": "ipython",
    "version": 3
   },
   "file_extension": ".py",
   "mimetype": "text/x-python",
   "name": "python",
   "nbconvert_exporter": "python",
   "pygments_lexer": "ipython3",
   "version": "3.6.8"
  }
 },
 "nbformat": 4,
 "nbformat_minor": 2
}
