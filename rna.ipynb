{
 "cells": [
  {
   "cell_type": "code",
   "execution_count": 1,
   "metadata": {},
   "outputs": [],
   "source": [
    "from sklearn.model_selection import train_test_split\n",
    "from sklearn.metrics import classification_report\n",
    "from sklearn import preprocessing\n",
    "import matplotlib.pyplot as plt\n",
    "import tensorflow as tf\n",
    "import pandas as pd\n",
    "import numpy as np\n",
    "import matplotlib"
   ]
  },
  {
   "cell_type": "code",
   "execution_count": 2,
   "metadata": {},
   "outputs": [],
   "source": [
    "args = {\n",
    "    \"dataset\": \"confidential/train150.txt\"\n",
    "}"
   ]
  },
  {
   "cell_type": "code",
   "execution_count": 3,
   "metadata": {},
   "outputs": [],
   "source": [
    "np.random.seed(8)"
   ]
  },
  {
   "cell_type": "code",
   "execution_count": 4,
   "metadata": {},
   "outputs": [],
   "source": [
    "dataframe = pd.read_csv(args[\"dataset\"], delimiter=\"\\t\", header=None)\n",
    "dataset = dataframe.values"
   ]
  },
  {
   "cell_type": "code",
   "execution_count": 5,
   "metadata": {},
   "outputs": [],
   "source": [
    "X = dataset[:-1]\n",
    "Y = dataset[:, 4][1:]"
   ]
  },
  {
   "cell_type": "code",
   "execution_count": 14,
   "metadata": {},
   "outputs": [],
   "source": [
    "# partition the data into training and testing splits using 75% of\n",
    "# the data for training and the remaining 25% for testing\n",
    "(X_train, X_test, Y_train, Y_test) = train_test_split(\n",
    "    X, Y, test_size=0.25, random_state=42\n",
    ")"
   ]
  },
  {
   "cell_type": "code",
   "execution_count": 9,
   "metadata": {},
   "outputs": [],
   "source": [
    "scaler = preprocessing.MinMaxScaler()\n",
    "X_train = scaler.fit_transform(X_train)\n",
    "X_test = scaler.transform(X_test)"
   ]
  },
  {
   "cell_type": "code",
   "execution_count": 11,
   "metadata": {},
   "outputs": [
    {
     "ename": "ValueError",
     "evalue": "non-broadcastable output operand with shape (411,1) doesn't match the broadcast shape (411,9)",
     "output_type": "error",
     "traceback": [
      "\u001b[0;31m---------------------------------------------------------------------------\u001b[0m",
      "\u001b[0;31mValueError\u001b[0m                                Traceback (most recent call last)",
      "\u001b[0;32m<ipython-input-11-1572db12fa84>\u001b[0m in \u001b[0;36m<module>\u001b[0;34m\u001b[0m\n\u001b[0;32m----> 1\u001b[0;31m \u001b[0mY_train\u001b[0m \u001b[0;34m=\u001b[0m \u001b[0mscaler\u001b[0m\u001b[0;34m.\u001b[0m\u001b[0mtransform\u001b[0m\u001b[0;34m(\u001b[0m\u001b[0mY_train\u001b[0m\u001b[0;34m.\u001b[0m\u001b[0mreshape\u001b[0m\u001b[0;34m(\u001b[0m\u001b[0;34m-\u001b[0m\u001b[0;36m1\u001b[0m\u001b[0;34m,\u001b[0m \u001b[0;36m1\u001b[0m\u001b[0;34m)\u001b[0m\u001b[0;34m)\u001b[0m\u001b[0;34m\u001b[0m\u001b[0;34m\u001b[0m\u001b[0m\n\u001b[0m\u001b[1;32m      2\u001b[0m \u001b[0mY_test\u001b[0m \u001b[0;34m=\u001b[0m \u001b[0mscaler\u001b[0m\u001b[0;34m.\u001b[0m\u001b[0mtransform\u001b[0m\u001b[0;34m(\u001b[0m\u001b[0mY_test\u001b[0m\u001b[0;34m.\u001b[0m\u001b[0mreshape\u001b[0m\u001b[0;34m(\u001b[0m\u001b[0;34m-\u001b[0m\u001b[0;36m1\u001b[0m\u001b[0;34m,\u001b[0m \u001b[0;36m1\u001b[0m\u001b[0;34m)\u001b[0m\u001b[0;34m)\u001b[0m\u001b[0;34m\u001b[0m\u001b[0;34m\u001b[0m\u001b[0m\n",
      "\u001b[0;32m/opt/anaconda3/envs/prediction-wind-speed-mp/lib/python3.6/site-packages/sklearn/preprocessing/data.py\u001b[0m in \u001b[0;36mtransform\u001b[0;34m(self, X)\u001b[0m\n\u001b[1;32m    387\u001b[0m                         force_all_finite=\"allow-nan\")\n\u001b[1;32m    388\u001b[0m \u001b[0;34m\u001b[0m\u001b[0m\n\u001b[0;32m--> 389\u001b[0;31m         \u001b[0mX\u001b[0m \u001b[0;34m*=\u001b[0m \u001b[0mself\u001b[0m\u001b[0;34m.\u001b[0m\u001b[0mscale_\u001b[0m\u001b[0;34m\u001b[0m\u001b[0;34m\u001b[0m\u001b[0m\n\u001b[0m\u001b[1;32m    390\u001b[0m         \u001b[0mX\u001b[0m \u001b[0;34m+=\u001b[0m \u001b[0mself\u001b[0m\u001b[0;34m.\u001b[0m\u001b[0mmin_\u001b[0m\u001b[0;34m\u001b[0m\u001b[0;34m\u001b[0m\u001b[0m\n\u001b[1;32m    391\u001b[0m         \u001b[0;32mreturn\u001b[0m \u001b[0mX\u001b[0m\u001b[0;34m\u001b[0m\u001b[0;34m\u001b[0m\u001b[0m\n",
      "\u001b[0;31mValueError\u001b[0m: non-broadcastable output operand with shape (411,1) doesn't match the broadcast shape (411,9)"
     ]
    }
   ],
   "source": [
    "Y_train = scaler.transform(Y_train.reshape(-1, 1))\n",
    "Y_test = scaler.transform(Y_test.reshape(-1, 1))"
   ]
  },
  {
   "cell_type": "code",
   "execution_count": 12,
   "metadata": {},
   "outputs": [
    {
     "name": "stdout",
     "output_type": "stream",
     "text": [
      "[[0.24137931 1.         0.         ... 0.29984501 0.86290415 0.96592513]\n",
      " [0.13793103 1.         0.         ... 0.42881246 0.69868716 0.93725968]\n",
      " [0.55172414 1.         0.         ... 0.38200805 0.97429453 0.58408147]\n",
      " ...\n",
      " [0.34482759 1.         0.         ... 0.38976813 0.8171083  0.9729471 ]\n",
      " [0.5862069  1.         0.         ... 0.43419635 0.55820861 0.77847358]\n",
      " [0.10344828 1.         0.         ... 0.33790358 0.83205758 0.95479812]]\n",
      "[ 7.37500002 10.74611113  5.53277777  9.70277778  7.06666667  2.73999999\n",
      "  7.56277779  4.52277778  5.5488889   9.4879518   8.42       12.83833332\n",
      "  8.70888887  8.04388893  6.43666664  7.3039106   3.06722222  6.58833334\n",
      " 11.66833335  7.17555555  8.04666673  5.24333337  7.56666668  8.47111113\n",
      " 10.67943263 10.69388894 12.66055554  3.59999999  5.62277776  5.46888889\n",
      "  7.90888893  6.98111109  9.96500002  9.13388885  7.95277778 12.96666667\n",
      "  4.38974369  7.74944446  4.80111111  5.74        4.91722223  8.04111115\n",
      " 10.84055559  6.11055553  6.38055556  6.05111112 11.34166668  5.65944445\n",
      "  8.40722224  4.28611111  9.68444447  9.55444448 12.45777779  7.92000001\n",
      "  4.78499997  5.02611112  7.36166667  6.8477778   3.91611111 12.08722222\n",
      "  7.52000001  7.18111112  7.89000004  9.86277779  7.32222224  8.16722222\n",
      "  9.88444445 12.18287293  4.96111111 10.48055558  8.66277781 11.54277777\n",
      " 11.06444444  9.59111114 10.61555559  7.84388889  7.34111113  9.52444443\n",
      "  5.95055558 13.57222223  6.65777778  7.63777778 11.555       8.38333334\n",
      "  9.51944444  9.48888888  7.0411111   9.58777777  5.44888888  5.53222223\n",
      " 10.17444446  5.90388889 11.76722224 11.58166664  6.44166669  7.61555554\n",
      "  3.87388887  5.43833331 10.125       4.975       7.01555559  8.76555556\n",
      "  6.23277778  8.90222226 11.44888887  8.94111115  8.01611112  9.09111114\n",
      "  5.9988889   8.46888891  5.71111111 13.39611111  9.84444446 12.06611115\n",
      "  8.59017346  9.88944445 13.05444445 10.78        9.80619465 10.92555556\n",
      " 10.09833334  5.82777779 13.04555556  8.66777777  8.37166666  3.4011111\n",
      " 10.5788889   5.92555557 11.26944443 12.82666667  6.99277782  7.77500001\n",
      " 12.2638889   9.85111112  8.2627778  12.22777776  7.9166667   8.48444447\n",
      "  8.89111112  3.91222222  7.06444446 10.41555556  5.12388891  6.58888888\n",
      "  2.34277777  5.73166667  7.83000004 12.7377778   9.52277779 10.23222223\n",
      " 12.15444442  8.11111113  6.35166666 10.34111116  7.77111114  9.05555557\n",
      "  9.17666667  9.62611113  9.6188889  11.82777778  5.22944444 11.66555554\n",
      "  6.95833333  3.82666666  3.43888888 12.07333332  7.06944445  5.71176472\n",
      "  3.36166665  9.12333333  7.6416667  13.32222223  4.89611112  5.36722223\n",
      " 11.36055555  6.62333335  8.47555557 10.31888886  8.43277777  1.92093022\n",
      "  5.78000001 10.16666663  7.15333334  9.19333334 11.76944447  9.29444414\n",
      " 12.7488889   8.4327778   3.87        4.01555555  6.50666668  7.05166667\n",
      " 13.16111109  9.92777775  9.81833336  7.47222223  8.59000002  5.78388886\n",
      "  3.82888889  7.1655556   5.48055556  8.4066667   4.78111108 13.23944443\n",
      " 10.50055555  9.47444445  7.21538467  5.97        8.86444448  5.48055555\n",
      " 10.38000002  8.33944445  7.32055554  5.64111111  8.66402441  7.83777776\n",
      " 13.55055557  6.82333333  9.86833336  9.33777779  9.40888887  7.08722224\n",
      " 11.80111109  4.40777781 11.60055557  7.43833334  3.99166667  7.44722223\n",
      "  6.47777777  4.48628572  4.51388887  8.26833335  7.15611111 10.77500001\n",
      "  3.39777777  6.26277779  2.37944444 10.71111111  2.97611111  8.1288889\n",
      "  9.38611115  8.96277779  2.74944444  8.10500002 10.15055557  6.47111111\n",
      "  6.61944445  8.94333335  8.61944445  3.64166666  9.0377778  11.42111111\n",
      " 11.48333332  4.57111109  9.58111108  3.7188889   5.56722222  4.28111111\n",
      " 10.84222223  6.61277777  6.57500002  8.24722227  7.28611112  9.19333337\n",
      "  8.01833339  6.49388889  2.96333332 10.32444445  6.92277778  6.50055554\n",
      "  6.62555557  9.40222224  9.0766667   9.44555557  8.45499999 10.05333336\n",
      "  7.48658538  9.46166669 12.2161111   8.23555554 13.15444444  9.7122222\n",
      "  3.71777777  9.36777781 11.27777781  2.11722222  5.39111115  3.1261111\n",
      "  8.94000002  5.31333334 10.97944443  5.58555553  5.96444444 13.07055556\n",
      "  8.62111114  7.51833335  9.59111114  8.77000001  7.62888889  8.78333335\n",
      "  7.18388891 13.36055556  8.43111109  7.50222222  3.91333332  7.20666667\n",
      "  3.19055556  8.03888892  6.33166668  9.5066667   3.91888887  5.84611111\n",
      "  5.67611113  7.9622222  11.86944446 12.51111116  4.58       10.09888887\n",
      "  4.52333333  8.67777778  6.82277777  7.04500003  7.99666667  8.9488889\n",
      "  3.15        9.08333334  2.93555556 10.24222225 13.40499999  5.21666664\n",
      "  4.99222222  5.50579712 10.55333337  6.8427778   5.11        8.20888889\n",
      "  3.90555555 11.15777779  5.44444444 10.13555555  8.94333335 11.48833333\n",
      "  5.03222223  7.16611111  7.55222228  9.785      12.08111113 10.07722221\n",
      "  9.6688889  10.28333334  7.89388892  6.3661111   5.26833334  2.77055556\n",
      " 12.79       12.65222224 10.4288889  13.43944445  7.94111112  8.86777778\n",
      "  5.51444445  7.66166669  9.21777778  7.90666669  6.42444445 12.32444445\n",
      " 11.20611112  7.6727778  12.4561111   7.16944445  9.96555554  8.44500005\n",
      "  9.99611113  1.76555555  2.30446926 10.48388891  8.37555556 10.89999999\n",
      " 10.33666669 10.30231212  6.85722224  9.75333334  6.2038889   4.8338889\n",
      " 10.20777779 11.70611108 13.38888887 10.51444446  9.30055555  8.59611116\n",
      " 10.53833338 10.54611113  9.23222221  7.24999998  7.98555559 10.64944445\n",
      "  8.34000001  5.97944443  5.6083333   8.86833335 11.78111109  5.61555555\n",
      " 12.03314917  8.79888889 12.5788889   8.6027778  12.67666667  7.64666669\n",
      " 10.74944447 10.9338889   7.81166672]\n"
     ]
    }
   ],
   "source": [
    "print(X_train)\n",
    "print(Y_train)"
   ]
  },
  {
   "cell_type": "code",
   "execution_count": 13,
   "metadata": {},
   "outputs": [
    {
     "name": "stdout",
     "output_type": "stream",
     "text": [
      "WARNING:tensorflow:From /opt/anaconda3/envs/prediction-wind-speed-mp/lib/python3.6/site-packages/tensorflow/python/ops/resource_variable_ops.py:435: colocate_with (from tensorflow.python.framework.ops) is deprecated and will be removed in a future version.\n",
      "Instructions for updating:\n",
      "Colocations handled automatically by placer.\n"
     ]
    }
   ],
   "source": [
    "# define the 9-9-6-1 architecture using tf.keras\n",
    "model = tf.keras.models.Sequential()\n",
    "model.add(tf.keras.layers.Dense(9, input_shape=(9,), activation=\"tanh\"))\n",
    "model.add(tf.keras.layers.Dense(9, activation=\"tanh\"))\n",
    "model.add(tf.keras.layers.Dense(6, activation=\"tanh\"))\n",
    "model.add(tf.keras.layers.Dense(1, activation=\"linear\"))"
   ]
  },
  {
   "cell_type": "code",
   "execution_count": 16,
   "metadata": {},
   "outputs": [
    {
     "name": "stdout",
     "output_type": "stream",
     "text": [
      "[INFO] training network...\n",
      "Train on 411 samples, validate on 138 samples\n",
      "WARNING:tensorflow:From /opt/anaconda3/envs/prediction-wind-speed-mp/lib/python3.6/site-packages/tensorflow/python/ops/math_ops.py:3066: to_int32 (from tensorflow.python.ops.math_ops) is deprecated and will be removed in a future version.\n",
      "Instructions for updating:\n",
      "Use tf.cast instead.\n",
      "Epoch 1/16\n",
      "411/411 [==============================] - 1s 3ms/sample - loss: 8.2044 - mean_absolute_error: 2.2887 - val_loss: 8.0018 - val_mean_absolute_error: 2.2962\n",
      "Epoch 2/16\n",
      "411/411 [==============================] - 1s 2ms/sample - loss: 7.7502 - mean_absolute_error: 2.2679 - val_loss: 7.9411 - val_mean_absolute_error: 2.3017\n",
      "Epoch 3/16\n",
      "411/411 [==============================] - 1s 2ms/sample - loss: 7.8197 - mean_absolute_error: 2.2704 - val_loss: 8.1199 - val_mean_absolute_error: 2.2955\n",
      "Epoch 4/16\n",
      "411/411 [==============================] - 1s 2ms/sample - loss: 7.7253 - mean_absolute_error: 2.2479 - val_loss: 7.9355 - val_mean_absolute_error: 2.3042\n",
      "Epoch 5/16\n",
      "411/411 [==============================] - 1s 2ms/sample - loss: 7.7508 - mean_absolute_error: 2.2663 - val_loss: 7.9414 - val_mean_absolute_error: 2.3016\n",
      "Epoch 6/16\n",
      "411/411 [==============================] - 1s 2ms/sample - loss: 7.7104 - mean_absolute_error: 2.2818 - val_loss: 7.9374 - val_mean_absolute_error: 2.3126\n",
      "Epoch 7/16\n",
      "411/411 [==============================] - 1s 2ms/sample - loss: 7.6692 - mean_absolute_error: 2.2583 - val_loss: 9.5390 - val_mean_absolute_error: 2.5843\n",
      "Epoch 8/16\n",
      "411/411 [==============================] - 1s 2ms/sample - loss: 7.7567 - mean_absolute_error: 2.2913 - val_loss: 7.9514 - val_mean_absolute_error: 2.3199\n",
      "Epoch 9/16\n",
      "411/411 [==============================] - 1s 2ms/sample - loss: 7.5543 - mean_absolute_error: 2.2313 - val_loss: 7.9462 - val_mean_absolute_error: 2.3177\n",
      "Epoch 10/16\n",
      "411/411 [==============================] - 1s 2ms/sample - loss: 7.6794 - mean_absolute_error: 2.2539 - val_loss: 9.0051 - val_mean_absolute_error: 2.5149\n",
      "Epoch 11/16\n",
      "411/411 [==============================] - 1s 2ms/sample - loss: 7.7105 - mean_absolute_error: 2.2633 - val_loss: 7.9350 - val_mean_absolute_error: 2.3103\n",
      "Epoch 12/16\n",
      "411/411 [==============================] - 1s 2ms/sample - loss: 7.7663 - mean_absolute_error: 2.2604 - val_loss: 8.0634 - val_mean_absolute_error: 2.2949\n",
      "Epoch 13/16\n",
      "411/411 [==============================] - 1s 2ms/sample - loss: 7.5071 - mean_absolute_error: 2.2130 - val_loss: 7.9658 - val_mean_absolute_error: 2.3245\n",
      "Epoch 14/16\n",
      "411/411 [==============================] - 1s 2ms/sample - loss: 7.4348 - mean_absolute_error: 2.2431 - val_loss: 9.7147 - val_mean_absolute_error: 2.5007\n",
      "Epoch 15/16\n",
      "411/411 [==============================] - 1s 2ms/sample - loss: 7.6781 - mean_absolute_error: 2.2627 - val_loss: 9.3077 - val_mean_absolute_error: 2.5555\n",
      "Epoch 16/16\n",
      "411/411 [==============================] - 1s 2ms/sample - loss: 7.6024 - mean_absolute_error: 2.2436 - val_loss: 8.2625 - val_mean_absolute_error: 2.3115\n"
     ]
    }
   ],
   "source": [
    "# initialize our initial learning rate and # of epochs to train for\n",
    "# INIT_LR = 0.01\n",
    "EPOCHS = 16\n",
    "\n",
    "# compile the model using SGD as our optimizer and categorical\n",
    "# cross-entropy loss (you'll want to use binary_crossentropy\n",
    "# for 2-class classification)\n",
    "print(\"[INFO] training network...\")\n",
    "# opt = tf.keras.optimizers.SGD(lr=INIT_LR)\n",
    "model.compile(loss=\"mse\", optimizer=\"sgd\", metrics=[\"mae\"])\n",
    "\n",
    "# train the neural network\n",
    "H = model.fit(\n",
    "    X_train,\n",
    "    Y_train,\n",
    "    validation_data=(X_test, Y_test),\n",
    "    epochs=EPOCHS,\n",
    "    batch_size=1,\n",
    ")"
   ]
  },
  {
   "cell_type": "code",
   "execution_count": 17,
   "metadata": {},
   "outputs": [
    {
     "name": "stdout",
     "output_type": "stream",
     "text": [
      "[INFO] evaluating network...\n"
     ]
    }
   ],
   "source": [
    "# evaluate the network\n",
    "print(\"[INFO] evaluating network...\")\n",
    "# predictions = model.predict(X_test, batch_size=1)\n",
    "# print(classification_report(Y_test, predictions, target_names=[\"velocidade\"]))\n",
    "\n",
    "# evaluate the model\n",
    "# scores = model.evaluate(X, Y)\n",
    "# print(\"\\n%s: %.2f%%\" % (model.metrics_names[1], scores[1] * 100))"
   ]
  },
  {
   "cell_type": "code",
   "execution_count": 20,
   "metadata": {},
   "outputs": [
    {
     "data": {
      "image/png": "[encoded data removed]",
      "text/plain": [
       "<Figure size 432x288 with 1 Axes>"
      ]
     },
     "metadata": {},
     "output_type": "display_data"
    }
   ],
   "source": [
    "# plot the training loss and accuracy\n",
    "N = np.arange(0, EPOCHS)\n",
    "plt.style.use(\"ggplot\")\n",
    "plt.figure()\n",
    "plt.plot(N, H.history[\"loss\"], label=\"train_loss\")\n",
    "plt.plot(N, H.history[\"val_loss\"], label=\"val_loss\")\n",
    "# plt.plot(N, H.history[\"acc\"], label=\"train_acc\")\n",
    "# plt.plot(N, H.history[\"val_acc\"], label=\"val_acc\")\n",
    "plt.title(\"Training Loss and Accuracy (Simple NN)\")\n",
    "plt.xlabel(\"Epoch #\")\n",
    "plt.ylabel(\"Loss/Accuracy\")\n",
    "plt.legend()\n",
    "plt.show()\n",
    "# plt.savefig(args[\"plot\"])\n",
    "\n",
    "# save the model and label binarizer to disk\n",
    "# print(\"[INFO] serializing network and label binarizer...\")\n",
    "# model.save(args[\"model\"])\n"
   ]
  },
  {
   "cell_type": "code",
   "execution_count": null,
   "metadata": {},
   "outputs": [],
   "source": []
  }
 ],
 "metadata": {
  "kernelspec": {
   "display_name": "Python 3",
   "language": "python",
   "name": "python3"
  },
  "language_info": {
   "codemirror_mode": {
    "name": "ipython",
    "version": 3
   },
   "file_extension": ".py",
   "mimetype": "text/x-python",
   "name": "python",
   "nbconvert_exporter": "python",
   "pygments_lexer": "ipython3",
   "version": "3.6.8"
  }
 },
 "nbformat": 4,
 "nbformat_minor": 2
}
