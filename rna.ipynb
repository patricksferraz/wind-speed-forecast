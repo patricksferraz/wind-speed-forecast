{
 "cells": [
  {
   "cell_type": "code",
   "execution_count": 1,
   "metadata": {},
   "outputs": [],
   "source": [
    "from sklearn.model_selection import train_test_split\n",
    "from sklearn.metrics import classification_report\n",
    "from sklearn import preprocessing\n",
    "import matplotlib.pyplot as plt\n",
    "import tensorflow as tf\n",
    "import pandas as pd\n",
    "import numpy as np\n",
    "import matplotlib\n",
    "import joblib\n",
    "\n",
    "DATASET_OFFSET = 6"
   ]
  },
  {
   "cell_type": "code",
   "execution_count": 2,
   "metadata": {},
   "outputs": [],
   "source": [
    "args = {\n",
    "    \"dataset\": \"confidential/train150.txt\",\n",
    "    \"model\": \"out/wind_speed_nn.model\",\n",
    "    \"plot\": \"out/wind_speed_plot.png\",\n",
    "    \"norm\": \"out/wind_speed_norm\"\n",
    "}"
   ]
  },
  {
   "cell_type": "code",
   "execution_count": 3,
   "metadata": {},
   "outputs": [],
   "source": [
    "np.random.seed(8)"
   ]
  },
  {
   "cell_type": "code",
   "execution_count": 4,
   "metadata": {},
   "outputs": [],
   "source": [
    "dataframe = pd.read_csv(args[\"dataset\"], delimiter=\"\\t\", header=None)\n",
    "dataset = dataframe.values"
   ]
  },
  {
   "cell_type": "code",
   "execution_count": 5,
   "metadata": {},
   "outputs": [],
   "source": [
    "# dataset for execution of the prediction for next 1 hour\n",
    "# X = dataset[:-1]\n",
    "# Y = dataset[1:, 4]\n",
    "\n",
    "# dataset for execution of the prediction for next 6 hours\n",
    "# X = dataset[:-6]\n",
    "# Y = dataset[6:, 4]\n",
    "\n",
    "# dataset for execution of the prediction for next 6 hours\n",
    "X = dataset[:-24]\n",
    "Y = dataset[24:, 4]"
   ]
  },
  {
   "cell_type": "code",
   "execution_count": 6,
   "metadata": {},
   "outputs": [],
   "source": [
    "# partition the data into training and testing splits using 75% of\n",
    "# the data for training and the remaining 25% for testing\n",
    "(X_train, X_test, Y_train, Y_test) = train_test_split(\n",
    "    X, Y, test_size=0.25, random_state=42\n",
    ")"
   ]
  },
  {
   "cell_type": "code",
   "execution_count": 7,
   "metadata": {},
   "outputs": [
    {
     "data": {
      "text/plain": [
       "['out/wind_speed_norm_x.joblib']"
      ]
     },
     "execution_count": 7,
     "metadata": {},
     "output_type": "execute_result"
    }
   ],
   "source": [
    "scaler = preprocessing.MinMaxScaler()\n",
    "X_train = scaler.fit_transform(X_train)\n",
    "X_test = scaler.transform(X_test)\n",
    "\n",
    "# save scale of x\n",
    "joblib.dump(scaler, \"{}_x.joblib\".format(args[\"norm\"]))"
   ]
  },
  {
   "cell_type": "code",
   "execution_count": 8,
   "metadata": {},
   "outputs": [
    {
     "data": {
      "text/plain": [
       "['out/wind_speed_norm_y.joblib']"
      ]
     },
     "execution_count": 8,
     "metadata": {},
     "output_type": "execute_result"
    }
   ],
   "source": [
    "Y_train = scaler.fit_transform(Y_train.reshape(-1, 1))\n",
    "Y_test = scaler.transform(Y_test.reshape(-1, 1))\n",
    "\n",
    "# save scale of y\n",
    "joblib.dump(scaler, \"{}_y.joblib\".format(args[\"norm\"]))"
   ]
  },
  {
   "cell_type": "code",
   "execution_count": 9,
   "metadata": {},
   "outputs": [
    {
     "name": "stdout",
     "output_type": "stream",
     "text": [
      "WARNING:tensorflow:From /home/ferraz/.conda/envs/prediction-wind-speed-mp/lib/python3.6/site-packages/tensorflow/python/ops/resource_variable_ops.py:435: colocate_with (from tensorflow.python.framework.ops) is deprecated and will be removed in a future version.\n",
      "Instructions for updating:\n",
      "Colocations handled automatically by placer.\n"
     ]
    }
   ],
   "source": [
    "# define the 9-9-6-1 architecture using tf.keras\n",
    "model = tf.keras.models.Sequential()\n",
    "model.add(tf.keras.layers.Dense(9, input_shape=(9,), activation=\"tanh\"))\n",
    "model.add(tf.keras.layers.Dense(9, activation=\"tanh\"))\n",
    "model.add(tf.keras.layers.Dense(6, activation=\"tanh\"))\n",
    "model.add(tf.keras.layers.Dense(1, activation=\"linear\"))"
   ]
  },
  {
   "cell_type": "code",
   "execution_count": 10,
   "metadata": {},
   "outputs": [
    {
     "name": "stdout",
     "output_type": "stream",
     "text": [
      "[INFO] training network...\n",
      "WARNING:tensorflow:From /home/ferraz/.conda/envs/prediction-wind-speed-mp/lib/python3.6/site-packages/tensorflow/python/keras/utils/losses_utils.py:170: to_float (from tensorflow.python.ops.math_ops) is deprecated and will be removed in a future version.\n",
      "Instructions for updating:\n",
      "Use tf.cast instead.\n",
      "Train on 394 samples, validate on 132 samples\n",
      "WARNING:tensorflow:From /home/ferraz/.conda/envs/prediction-wind-speed-mp/lib/python3.6/site-packages/tensorflow/python/ops/math_ops.py:3066: to_int32 (from tensorflow.python.ops.math_ops) is deprecated and will be removed in a future version.\n",
      "Instructions for updating:\n",
      "Use tf.cast instead.\n",
      "Epoch 1/100\n",
      "394/394 [==============================] - 1s 2ms/sample - loss: 0.0734 - mean_absolute_error: 0.2145 - mean_squared_error: 0.0734 - val_loss: 0.0450 - val_mean_absolute_error: 0.1690 - val_mean_squared_error: 0.0450\n",
      "Epoch 2/100\n",
      "394/394 [==============================] - 0s 1ms/sample - loss: 0.0437 - mean_absolute_error: 0.1694 - mean_squared_error: 0.0437 - val_loss: 0.0454 - val_mean_absolute_error: 0.1725 - val_mean_squared_error: 0.0454\n",
      "Epoch 3/100\n",
      "394/394 [==============================] - 0s 1ms/sample - loss: 0.0409 - mean_absolute_error: 0.1596 - mean_squared_error: 0.0409 - val_loss: 0.0395 - val_mean_absolute_error: 0.1549 - val_mean_squared_error: 0.0395\n",
      "Epoch 4/100\n",
      "394/394 [==============================] - 0s 1ms/sample - loss: 0.0386 - mean_absolute_error: 0.1555 - mean_squared_error: 0.0386 - val_loss: 0.0385 - val_mean_absolute_error: 0.1521 - val_mean_squared_error: 0.0385\n",
      "Epoch 5/100\n",
      "394/394 [==============================] - 0s 1ms/sample - loss: 0.0377 - mean_absolute_error: 0.1516 - mean_squared_error: 0.0377 - val_loss: 0.0422 - val_mean_absolute_error: 0.1564 - val_mean_squared_error: 0.0422\n",
      "Epoch 6/100\n",
      "394/394 [==============================] - 0s 1ms/sample - loss: 0.0361 - mean_absolute_error: 0.1478 - mean_squared_error: 0.0361 - val_loss: 0.0421 - val_mean_absolute_error: 0.1560 - val_mean_squared_error: 0.0421\n",
      "Epoch 7/100\n",
      "394/394 [==============================] - 0s 1ms/sample - loss: 0.0364 - mean_absolute_error: 0.1483 - mean_squared_error: 0.0364 - val_loss: 0.0374 - val_mean_absolute_error: 0.1486 - val_mean_squared_error: 0.0374\n",
      "Epoch 8/100\n",
      "394/394 [==============================] - 0s 1ms/sample - loss: 0.0358 - mean_absolute_error: 0.1482 - mean_squared_error: 0.0358 - val_loss: 0.0374 - val_mean_absolute_error: 0.1507 - val_mean_squared_error: 0.0374\n",
      "Epoch 9/100\n",
      "394/394 [==============================] - 0s 1ms/sample - loss: 0.0349 - mean_absolute_error: 0.1468 - mean_squared_error: 0.0349 - val_loss: 0.0366 - val_mean_absolute_error: 0.1474 - val_mean_squared_error: 0.0366\n",
      "Epoch 10/100\n",
      "394/394 [==============================] - 0s 1ms/sample - loss: 0.0348 - mean_absolute_error: 0.1424 - mean_squared_error: 0.0348 - val_loss: 0.0392 - val_mean_absolute_error: 0.1506 - val_mean_squared_error: 0.0392\n",
      "Epoch 11/100\n",
      "394/394 [==============================] - 0s 1ms/sample - loss: 0.0345 - mean_absolute_error: 0.1450 - mean_squared_error: 0.0345 - val_loss: 0.0363 - val_mean_absolute_error: 0.1483 - val_mean_squared_error: 0.0363\n",
      "Epoch 12/100\n",
      "394/394 [==============================] - 0s 1ms/sample - loss: 0.0333 - mean_absolute_error: 0.1384 - mean_squared_error: 0.0333 - val_loss: 0.0447 - val_mean_absolute_error: 0.1719 - val_mean_squared_error: 0.0447\n",
      "Epoch 13/100\n",
      "394/394 [==============================] - 0s 1ms/sample - loss: 0.0335 - mean_absolute_error: 0.1408 - mean_squared_error: 0.0335 - val_loss: 0.0709 - val_mean_absolute_error: 0.2103 - val_mean_squared_error: 0.0709\n",
      "Epoch 14/100\n",
      "394/394 [==============================] - 0s 1ms/sample - loss: 0.0344 - mean_absolute_error: 0.1428 - mean_squared_error: 0.0344 - val_loss: 0.0361 - val_mean_absolute_error: 0.1464 - val_mean_squared_error: 0.0361\n",
      "Epoch 15/100\n",
      "394/394 [==============================] - 0s 1ms/sample - loss: 0.0340 - mean_absolute_error: 0.1418 - mean_squared_error: 0.0340 - val_loss: 0.0355 - val_mean_absolute_error: 0.1454 - val_mean_squared_error: 0.0355\n",
      "Epoch 16/100\n",
      "394/394 [==============================] - 0s 1ms/sample - loss: 0.0329 - mean_absolute_error: 0.1383 - mean_squared_error: 0.0329 - val_loss: 0.0355 - val_mean_absolute_error: 0.1458 - val_mean_squared_error: 0.0355\n",
      "Epoch 17/100\n",
      "394/394 [==============================] - 0s 1ms/sample - loss: 0.0325 - mean_absolute_error: 0.1418 - mean_squared_error: 0.0325 - val_loss: 0.0366 - val_mean_absolute_error: 0.1457 - val_mean_squared_error: 0.0366\n",
      "Epoch 18/100\n",
      "394/394 [==============================] - 0s 1ms/sample - loss: 0.0326 - mean_absolute_error: 0.1383 - mean_squared_error: 0.0326 - val_loss: 0.0353 - val_mean_absolute_error: 0.1458 - val_mean_squared_error: 0.0353\n",
      "Epoch 19/100\n",
      "394/394 [==============================] - 0s 1ms/sample - loss: 0.0317 - mean_absolute_error: 0.1353 - mean_squared_error: 0.0317 - val_loss: 0.0375 - val_mean_absolute_error: 0.1465 - val_mean_squared_error: 0.0375\n",
      "Epoch 20/100\n",
      "394/394 [==============================] - 0s 1ms/sample - loss: 0.0324 - mean_absolute_error: 0.1397 - mean_squared_error: 0.0324 - val_loss: 0.0358 - val_mean_absolute_error: 0.1480 - val_mean_squared_error: 0.0358\n",
      "Epoch 21/100\n",
      "394/394 [==============================] - 0s 1ms/sample - loss: 0.0315 - mean_absolute_error: 0.1393 - mean_squared_error: 0.0315 - val_loss: 0.0359 - val_mean_absolute_error: 0.1483 - val_mean_squared_error: 0.0359\n",
      "Epoch 22/100\n",
      "394/394 [==============================] - 0s 1ms/sample - loss: 0.0322 - mean_absolute_error: 0.1390 - mean_squared_error: 0.0322 - val_loss: 0.0415 - val_mean_absolute_error: 0.1531 - val_mean_squared_error: 0.0415\n",
      "Epoch 23/100\n",
      "394/394 [==============================] - 0s 1ms/sample - loss: 0.0315 - mean_absolute_error: 0.1373 - mean_squared_error: 0.0315 - val_loss: 0.0400 - val_mean_absolute_error: 0.1505 - val_mean_squared_error: 0.0400\n",
      "Epoch 24/100\n",
      "394/394 [==============================] - 0s 1ms/sample - loss: 0.0314 - mean_absolute_error: 0.1370 - mean_squared_error: 0.0314 - val_loss: 0.0381 - val_mean_absolute_error: 0.1463 - val_mean_squared_error: 0.0381\n",
      "Epoch 25/100\n",
      "394/394 [==============================] - 0s 1ms/sample - loss: 0.0310 - mean_absolute_error: 0.1365 - mean_squared_error: 0.0310 - val_loss: 0.0405 - val_mean_absolute_error: 0.1517 - val_mean_squared_error: 0.0405\n",
      "Epoch 26/100\n",
      "394/394 [==============================] - 0s 1ms/sample - loss: 0.0312 - mean_absolute_error: 0.1340 - mean_squared_error: 0.0312 - val_loss: 0.0411 - val_mean_absolute_error: 0.1515 - val_mean_squared_error: 0.0411\n",
      "Epoch 27/100\n",
      "394/394 [==============================] - 0s 1ms/sample - loss: 0.0306 - mean_absolute_error: 0.1344 - mean_squared_error: 0.0306 - val_loss: 0.0351 - val_mean_absolute_error: 0.1460 - val_mean_squared_error: 0.0351\n",
      "Epoch 28/100\n",
      "394/394 [==============================] - 0s 1ms/sample - loss: 0.0312 - mean_absolute_error: 0.1363 - mean_squared_error: 0.0312 - val_loss: 0.0348 - val_mean_absolute_error: 0.1435 - val_mean_squared_error: 0.0348\n",
      "Epoch 29/100\n",
      "394/394 [==============================] - 0s 1ms/sample - loss: 0.0312 - mean_absolute_error: 0.1346 - mean_squared_error: 0.0312 - val_loss: 0.0433 - val_mean_absolute_error: 0.1554 - val_mean_squared_error: 0.0433\n",
      "Epoch 30/100\n",
      "394/394 [==============================] - 0s 1ms/sample - loss: 0.0305 - mean_absolute_error: 0.1358 - mean_squared_error: 0.0305 - val_loss: 0.0406 - val_mean_absolute_error: 0.1523 - val_mean_squared_error: 0.0406\n",
      "Epoch 31/100\n",
      "394/394 [==============================] - 0s 1ms/sample - loss: 0.0315 - mean_absolute_error: 0.1370 - mean_squared_error: 0.0315 - val_loss: 0.0347 - val_mean_absolute_error: 0.1444 - val_mean_squared_error: 0.0347\n",
      "Epoch 32/100\n",
      "394/394 [==============================] - 0s 1ms/sample - loss: 0.0307 - mean_absolute_error: 0.1354 - mean_squared_error: 0.0307 - val_loss: 0.0359 - val_mean_absolute_error: 0.1435 - val_mean_squared_error: 0.0359\n",
      "Epoch 33/100\n",
      "394/394 [==============================] - 0s 1ms/sample - loss: 0.0310 - mean_absolute_error: 0.1350 - mean_squared_error: 0.0310 - val_loss: 0.0346 - val_mean_absolute_error: 0.1450 - val_mean_squared_error: 0.0346\n"
     ]
    },
    {
     "name": "stdout",
     "output_type": "stream",
     "text": [
      "Epoch 34/100\n",
      "394/394 [==============================] - 0s 1ms/sample - loss: 0.0305 - mean_absolute_error: 0.1350 - mean_squared_error: 0.0305 - val_loss: 0.0357 - val_mean_absolute_error: 0.1445 - val_mean_squared_error: 0.0357\n",
      "Epoch 35/100\n",
      "394/394 [==============================] - 0s 1ms/sample - loss: 0.0308 - mean_absolute_error: 0.1352 - mean_squared_error: 0.0308 - val_loss: 0.0351 - val_mean_absolute_error: 0.1431 - val_mean_squared_error: 0.0351\n",
      "Epoch 36/100\n",
      "394/394 [==============================] - 0s 1ms/sample - loss: 0.0300 - mean_absolute_error: 0.1328 - mean_squared_error: 0.0300 - val_loss: 0.0368 - val_mean_absolute_error: 0.1452 - val_mean_squared_error: 0.0368\n",
      "Epoch 37/100\n",
      "394/394 [==============================] - 0s 1ms/sample - loss: 0.0304 - mean_absolute_error: 0.1341 - mean_squared_error: 0.0304 - val_loss: 0.0389 - val_mean_absolute_error: 0.1472 - val_mean_squared_error: 0.0389\n",
      "Epoch 38/100\n",
      "394/394 [==============================] - 0s 1ms/sample - loss: 0.0303 - mean_absolute_error: 0.1326 - mean_squared_error: 0.0303 - val_loss: 0.0351 - val_mean_absolute_error: 0.1442 - val_mean_squared_error: 0.0351\n",
      "Epoch 39/100\n",
      "394/394 [==============================] - 0s 1ms/sample - loss: 0.0303 - mean_absolute_error: 0.1330 - mean_squared_error: 0.0303 - val_loss: 0.0363 - val_mean_absolute_error: 0.1455 - val_mean_squared_error: 0.0363\n",
      "Epoch 40/100\n",
      "394/394 [==============================] - 0s 1ms/sample - loss: 0.0309 - mean_absolute_error: 0.1361 - mean_squared_error: 0.0309 - val_loss: 0.0355 - val_mean_absolute_error: 0.1446 - val_mean_squared_error: 0.0355\n",
      "Epoch 41/100\n",
      "394/394 [==============================] - 0s 1ms/sample - loss: 0.0304 - mean_absolute_error: 0.1325 - mean_squared_error: 0.0304 - val_loss: 0.0351 - val_mean_absolute_error: 0.1435 - val_mean_squared_error: 0.0351\n",
      "Epoch 42/100\n",
      "394/394 [==============================] - 0s 1ms/sample - loss: 0.0298 - mean_absolute_error: 0.1329 - mean_squared_error: 0.0298 - val_loss: 0.0366 - val_mean_absolute_error: 0.1463 - val_mean_squared_error: 0.0366\n",
      "Epoch 43/100\n",
      "394/394 [==============================] - 0s 1ms/sample - loss: 0.0298 - mean_absolute_error: 0.1338 - mean_squared_error: 0.0298 - val_loss: 0.0376 - val_mean_absolute_error: 0.1454 - val_mean_squared_error: 0.0376\n",
      "Epoch 44/100\n",
      "394/394 [==============================] - 0s 1ms/sample - loss: 0.0300 - mean_absolute_error: 0.1320 - mean_squared_error: 0.0300 - val_loss: 0.0354 - val_mean_absolute_error: 0.1443 - val_mean_squared_error: 0.0354\n",
      "Epoch 45/100\n",
      "394/394 [==============================] - 0s 1ms/sample - loss: 0.0300 - mean_absolute_error: 0.1317 - mean_squared_error: 0.0300 - val_loss: 0.0449 - val_mean_absolute_error: 0.1585 - val_mean_squared_error: 0.0449\n",
      "Epoch 46/100\n",
      "394/394 [==============================] - 0s 1ms/sample - loss: 0.0302 - mean_absolute_error: 0.1334 - mean_squared_error: 0.0302 - val_loss: 0.0352 - val_mean_absolute_error: 0.1466 - val_mean_squared_error: 0.0352\n",
      "Epoch 47/100\n",
      "394/394 [==============================] - 0s 1ms/sample - loss: 0.0302 - mean_absolute_error: 0.1334 - mean_squared_error: 0.0302 - val_loss: 0.0356 - val_mean_absolute_error: 0.1448 - val_mean_squared_error: 0.0356\n",
      "Epoch 48/100\n",
      "394/394 [==============================] - 0s 1ms/sample - loss: 0.0296 - mean_absolute_error: 0.1325 - mean_squared_error: 0.0296 - val_loss: 0.0346 - val_mean_absolute_error: 0.1436 - val_mean_squared_error: 0.0346\n",
      "Epoch 49/100\n",
      "394/394 [==============================] - 0s 1ms/sample - loss: 0.0294 - mean_absolute_error: 0.1327 - mean_squared_error: 0.0294 - val_loss: 0.0437 - val_mean_absolute_error: 0.1709 - val_mean_squared_error: 0.0437\n",
      "Epoch 50/100\n",
      "394/394 [==============================] - 0s 1ms/sample - loss: 0.0292 - mean_absolute_error: 0.1328 - mean_squared_error: 0.0292 - val_loss: 0.0359 - val_mean_absolute_error: 0.1497 - val_mean_squared_error: 0.0359\n",
      "Epoch 51/100\n",
      "394/394 [==============================] - 0s 1ms/sample - loss: 0.0300 - mean_absolute_error: 0.1314 - mean_squared_error: 0.0300 - val_loss: 0.0350 - val_mean_absolute_error: 0.1432 - val_mean_squared_error: 0.0350\n",
      "Epoch 52/100\n",
      "394/394 [==============================] - 0s 1ms/sample - loss: 0.0298 - mean_absolute_error: 0.1343 - mean_squared_error: 0.0298 - val_loss: 0.0355 - val_mean_absolute_error: 0.1428 - val_mean_squared_error: 0.0355\n",
      "Epoch 53/100\n",
      "394/394 [==============================] - 0s 1ms/sample - loss: 0.0295 - mean_absolute_error: 0.1332 - mean_squared_error: 0.0295 - val_loss: 0.0360 - val_mean_absolute_error: 0.1440 - val_mean_squared_error: 0.0360\n",
      "Epoch 54/100\n",
      "394/394 [==============================] - 0s 1ms/sample - loss: 0.0297 - mean_absolute_error: 0.1303 - mean_squared_error: 0.0297 - val_loss: 0.0345 - val_mean_absolute_error: 0.1461 - val_mean_squared_error: 0.0345\n",
      "Epoch 55/100\n",
      "394/394 [==============================] - 0s 1ms/sample - loss: 0.0292 - mean_absolute_error: 0.1292 - mean_squared_error: 0.0292 - val_loss: 0.0516 - val_mean_absolute_error: 0.1718 - val_mean_squared_error: 0.0516\n",
      "Epoch 56/100\n",
      "394/394 [==============================] - 0s 1ms/sample - loss: 0.0299 - mean_absolute_error: 0.1296 - mean_squared_error: 0.0299 - val_loss: 0.0349 - val_mean_absolute_error: 0.1432 - val_mean_squared_error: 0.0349\n",
      "Epoch 57/100\n",
      "394/394 [==============================] - 0s 1ms/sample - loss: 0.0297 - mean_absolute_error: 0.1319 - mean_squared_error: 0.0297 - val_loss: 0.0340 - val_mean_absolute_error: 0.1428 - val_mean_squared_error: 0.0340\n",
      "Epoch 58/100\n",
      "394/394 [==============================] - 0s 1ms/sample - loss: 0.0296 - mean_absolute_error: 0.1313 - mean_squared_error: 0.0296 - val_loss: 0.0353 - val_mean_absolute_error: 0.1429 - val_mean_squared_error: 0.0353\n",
      "Epoch 59/100\n",
      "394/394 [==============================] - 0s 1ms/sample - loss: 0.0294 - mean_absolute_error: 0.1309 - mean_squared_error: 0.0294 - val_loss: 0.0401 - val_mean_absolute_error: 0.1491 - val_mean_squared_error: 0.0401\n",
      "Epoch 60/100\n",
      "394/394 [==============================] - 0s 1ms/sample - loss: 0.0294 - mean_absolute_error: 0.1312 - mean_squared_error: 0.0294 - val_loss: 0.0383 - val_mean_absolute_error: 0.1459 - val_mean_squared_error: 0.0383\n",
      "Epoch 61/100\n",
      "394/394 [==============================] - 0s 1ms/sample - loss: 0.0296 - mean_absolute_error: 0.1308 - mean_squared_error: 0.0296 - val_loss: 0.0347 - val_mean_absolute_error: 0.1444 - val_mean_squared_error: 0.0347\n",
      "Epoch 62/100\n",
      "394/394 [==============================] - 0s 1ms/sample - loss: 0.0282 - mean_absolute_error: 0.1298 - mean_squared_error: 0.0282 - val_loss: 0.0358 - val_mean_absolute_error: 0.1449 - val_mean_squared_error: 0.0358\n",
      "Epoch 63/100\n",
      "394/394 [==============================] - 0s 1ms/sample - loss: 0.0290 - mean_absolute_error: 0.1319 - mean_squared_error: 0.0290 - val_loss: 0.0553 - val_mean_absolute_error: 0.1795 - val_mean_squared_error: 0.0553\n",
      "Epoch 64/100\n",
      "394/394 [==============================] - 0s 1ms/sample - loss: 0.0293 - mean_absolute_error: 0.1314 - mean_squared_error: 0.0293 - val_loss: 0.0346 - val_mean_absolute_error: 0.1452 - val_mean_squared_error: 0.0346\n",
      "Epoch 65/100\n",
      "394/394 [==============================] - 0s 1ms/sample - loss: 0.0290 - mean_absolute_error: 0.1315 - mean_squared_error: 0.0290 - val_loss: 0.0378 - val_mean_absolute_error: 0.1455 - val_mean_squared_error: 0.0378\n",
      "Epoch 66/100\n",
      "394/394 [==============================] - 0s 1ms/sample - loss: 0.0291 - mean_absolute_error: 0.1305 - mean_squared_error: 0.0291 - val_loss: 0.0383 - val_mean_absolute_error: 0.1475 - val_mean_squared_error: 0.0383\n",
      "Epoch 67/100\n",
      "394/394 [==============================] - 0s 1ms/sample - loss: 0.0288 - mean_absolute_error: 0.1290 - mean_squared_error: 0.0288 - val_loss: 0.0349 - val_mean_absolute_error: 0.1465 - val_mean_squared_error: 0.0349\n",
      "Epoch 68/100\n",
      "394/394 [==============================] - 0s 1ms/sample - loss: 0.0284 - mean_absolute_error: 0.1315 - mean_squared_error: 0.0284 - val_loss: 0.0349 - val_mean_absolute_error: 0.1460 - val_mean_squared_error: 0.0349\n",
      "Epoch 69/100\n",
      "394/394 [==============================] - 0s 1ms/sample - loss: 0.0283 - mean_absolute_error: 0.1311 - mean_squared_error: 0.0283 - val_loss: 0.0419 - val_mean_absolute_error: 0.1526 - val_mean_squared_error: 0.0419\n"
     ]
    },
    {
     "name": "stdout",
     "output_type": "stream",
     "text": [
      "Epoch 70/100\n",
      "394/394 [==============================] - 0s 1ms/sample - loss: 0.0290 - mean_absolute_error: 0.1310 - mean_squared_error: 0.0290 - val_loss: 0.0347 - val_mean_absolute_error: 0.1434 - val_mean_squared_error: 0.0347\n",
      "Epoch 71/100\n",
      "394/394 [==============================] - 0s 1ms/sample - loss: 0.0289 - mean_absolute_error: 0.1302 - mean_squared_error: 0.0289 - val_loss: 0.0421 - val_mean_absolute_error: 0.1532 - val_mean_squared_error: 0.0421\n",
      "Epoch 72/100\n",
      "394/394 [==============================] - 0s 1ms/sample - loss: 0.0286 - mean_absolute_error: 0.1294 - mean_squared_error: 0.0286 - val_loss: 0.0368 - val_mean_absolute_error: 0.1453 - val_mean_squared_error: 0.0368\n",
      "Epoch 73/100\n",
      "394/394 [==============================] - 0s 1ms/sample - loss: 0.0286 - mean_absolute_error: 0.1314 - mean_squared_error: 0.0286 - val_loss: 0.0368 - val_mean_absolute_error: 0.1443 - val_mean_squared_error: 0.0368\n",
      "Epoch 74/100\n",
      "394/394 [==============================] - 0s 1ms/sample - loss: 0.0283 - mean_absolute_error: 0.1284 - mean_squared_error: 0.0283 - val_loss: 0.0339 - val_mean_absolute_error: 0.1441 - val_mean_squared_error: 0.0339\n",
      "Epoch 75/100\n",
      "394/394 [==============================] - 0s 1ms/sample - loss: 0.0282 - mean_absolute_error: 0.1270 - mean_squared_error: 0.0282 - val_loss: 0.0357 - val_mean_absolute_error: 0.1435 - val_mean_squared_error: 0.0357\n",
      "Epoch 76/100\n",
      "394/394 [==============================] - 0s 1ms/sample - loss: 0.0277 - mean_absolute_error: 0.1289 - mean_squared_error: 0.0277 - val_loss: 0.0389 - val_mean_absolute_error: 0.1480 - val_mean_squared_error: 0.0389\n",
      "Epoch 77/100\n",
      "394/394 [==============================] - 0s 1ms/sample - loss: 0.0286 - mean_absolute_error: 0.1296 - mean_squared_error: 0.0286 - val_loss: 0.0359 - val_mean_absolute_error: 0.1436 - val_mean_squared_error: 0.0359\n",
      "Epoch 78/100\n",
      "394/394 [==============================] - 0s 1ms/sample - loss: 0.0273 - mean_absolute_error: 0.1259 - mean_squared_error: 0.0273 - val_loss: 0.0499 - val_mean_absolute_error: 0.1687 - val_mean_squared_error: 0.0499\n",
      "Epoch 79/100\n",
      "394/394 [==============================] - 0s 1ms/sample - loss: 0.0289 - mean_absolute_error: 0.1305 - mean_squared_error: 0.0289 - val_loss: 0.0353 - val_mean_absolute_error: 0.1425 - val_mean_squared_error: 0.0353\n",
      "Epoch 80/100\n",
      "394/394 [==============================] - 0s 1ms/sample - loss: 0.0279 - mean_absolute_error: 0.1298 - mean_squared_error: 0.0279 - val_loss: 0.0382 - val_mean_absolute_error: 0.1463 - val_mean_squared_error: 0.0382\n",
      "Epoch 81/100\n",
      "394/394 [==============================] - 0s 1ms/sample - loss: 0.0285 - mean_absolute_error: 0.1291 - mean_squared_error: 0.0285 - val_loss: 0.0353 - val_mean_absolute_error: 0.1437 - val_mean_squared_error: 0.0353\n",
      "Epoch 82/100\n",
      "394/394 [==============================] - 0s 1ms/sample - loss: 0.0279 - mean_absolute_error: 0.1273 - mean_squared_error: 0.0279 - val_loss: 0.0346 - val_mean_absolute_error: 0.1422 - val_mean_squared_error: 0.0346\n",
      "Epoch 83/100\n",
      "394/394 [==============================] - 0s 1ms/sample - loss: 0.0275 - mean_absolute_error: 0.1262 - mean_squared_error: 0.0275 - val_loss: 0.0351 - val_mean_absolute_error: 0.1421 - val_mean_squared_error: 0.0351\n",
      "Epoch 84/100\n",
      "394/394 [==============================] - 0s 1ms/sample - loss: 0.0278 - mean_absolute_error: 0.1274 - mean_squared_error: 0.0278 - val_loss: 0.0359 - val_mean_absolute_error: 0.1427 - val_mean_squared_error: 0.0359\n",
      "Epoch 85/100\n",
      "394/394 [==============================] - 0s 1ms/sample - loss: 0.0277 - mean_absolute_error: 0.1283 - mean_squared_error: 0.0277 - val_loss: 0.0372 - val_mean_absolute_error: 0.1459 - val_mean_squared_error: 0.0372\n",
      "Epoch 86/100\n",
      "394/394 [==============================] - 0s 1ms/sample - loss: 0.0277 - mean_absolute_error: 0.1271 - mean_squared_error: 0.0277 - val_loss: 0.0346 - val_mean_absolute_error: 0.1447 - val_mean_squared_error: 0.0346\n",
      "Epoch 87/100\n",
      "394/394 [==============================] - 0s 1ms/sample - loss: 0.0275 - mean_absolute_error: 0.1252 - mean_squared_error: 0.0275 - val_loss: 0.0381 - val_mean_absolute_error: 0.1463 - val_mean_squared_error: 0.0381\n",
      "Epoch 88/100\n",
      "394/394 [==============================] - 0s 1ms/sample - loss: 0.0271 - mean_absolute_error: 0.1250 - mean_squared_error: 0.0271 - val_loss: 0.0339 - val_mean_absolute_error: 0.1431 - val_mean_squared_error: 0.0339\n",
      "Epoch 89/100\n",
      "394/394 [==============================] - 0s 1ms/sample - loss: 0.0274 - mean_absolute_error: 0.1279 - mean_squared_error: 0.0274 - val_loss: 0.0335 - val_mean_absolute_error: 0.1415 - val_mean_squared_error: 0.0335\n",
      "Epoch 90/100\n",
      "394/394 [==============================] - 0s 1ms/sample - loss: 0.0275 - mean_absolute_error: 0.1267 - mean_squared_error: 0.0275 - val_loss: 0.0394 - val_mean_absolute_error: 0.1473 - val_mean_squared_error: 0.0394\n",
      "Epoch 91/100\n",
      "394/394 [==============================] - 0s 1ms/sample - loss: 0.0276 - mean_absolute_error: 0.1289 - mean_squared_error: 0.0276 - val_loss: 0.0367 - val_mean_absolute_error: 0.1431 - val_mean_squared_error: 0.0367\n",
      "Epoch 92/100\n",
      "394/394 [==============================] - 0s 1ms/sample - loss: 0.0273 - mean_absolute_error: 0.1269 - mean_squared_error: 0.0273 - val_loss: 0.0398 - val_mean_absolute_error: 0.1489 - val_mean_squared_error: 0.0398\n",
      "Epoch 93/100\n",
      "394/394 [==============================] - 0s 1ms/sample - loss: 0.0274 - mean_absolute_error: 0.1262 - mean_squared_error: 0.0274 - val_loss: 0.0341 - val_mean_absolute_error: 0.1450 - val_mean_squared_error: 0.0341\n",
      "Epoch 94/100\n",
      "394/394 [==============================] - 0s 1ms/sample - loss: 0.0272 - mean_absolute_error: 0.1265 - mean_squared_error: 0.0272 - val_loss: 0.0355 - val_mean_absolute_error: 0.1441 - val_mean_squared_error: 0.0355\n",
      "Epoch 95/100\n",
      "394/394 [==============================] - 0s 1ms/sample - loss: 0.0266 - mean_absolute_error: 0.1268 - mean_squared_error: 0.0266 - val_loss: 0.0464 - val_mean_absolute_error: 0.1622 - val_mean_squared_error: 0.0464\n",
      "Epoch 96/100\n",
      "394/394 [==============================] - 0s 1ms/sample - loss: 0.0274 - mean_absolute_error: 0.1276 - mean_squared_error: 0.0274 - val_loss: 0.0347 - val_mean_absolute_error: 0.1408 - val_mean_squared_error: 0.0347\n",
      "Epoch 97/100\n",
      "394/394 [==============================] - 0s 1ms/sample - loss: 0.0269 - mean_absolute_error: 0.1266 - mean_squared_error: 0.0269 - val_loss: 0.0360 - val_mean_absolute_error: 0.1423 - val_mean_squared_error: 0.0360\n",
      "Epoch 98/100\n",
      "394/394 [==============================] - 0s 1ms/sample - loss: 0.0264 - mean_absolute_error: 0.1245 - mean_squared_error: 0.0264 - val_loss: 0.0518 - val_mean_absolute_error: 0.1729 - val_mean_squared_error: 0.0518\n",
      "Epoch 99/100\n",
      "394/394 [==============================] - 0s 1ms/sample - loss: 0.0271 - mean_absolute_error: 0.1275 - mean_squared_error: 0.0271 - val_loss: 0.0343 - val_mean_absolute_error: 0.1439 - val_mean_squared_error: 0.0343\n",
      "Epoch 100/100\n",
      "394/394 [==============================] - 0s 1ms/sample - loss: 0.0268 - mean_absolute_error: 0.1269 - mean_squared_error: 0.0268 - val_loss: 0.0403 - val_mean_absolute_error: 0.1504 - val_mean_squared_error: 0.0403\n"
     ]
    }
   ],
   "source": [
    "# initialize our initial learning rate and # of epochs to train for\n",
    "# INIT_LR = 0.01\n",
    "EPOCHS = 100\n",
    "\n",
    "# compile the model using SGD as our optimizer and categorical\n",
    "# cross-entropy loss (you'll want to use binary_crossentropy\n",
    "# for 2-class classification)\n",
    "print(\"[INFO] training network...\")\n",
    "# opt = tf.keras.optimizers.SGD(lr=INIT_LR)\n",
    "model.compile(loss=\"mse\", optimizer=\"sgd\", metrics=[\"mae\", \"mse\"])\n",
    "\n",
    "# train the neural network\n",
    "H = model.fit(\n",
    "    X_train,\n",
    "    Y_train,\n",
    "    validation_data=(X_test, Y_test),\n",
    "    epochs=EPOCHS,\n",
    "    batch_size=1,\n",
    ")"
   ]
  },
  {
   "cell_type": "code",
   "execution_count": 11,
   "metadata": {},
   "outputs": [
    {
     "name": "stdout",
     "output_type": "stream",
     "text": [
      "132/132 [==============================] - 0s 172us/sample - loss: 0.0403 - mean_absolute_error: 0.1504 - mean_squared_error: 0.0403\n",
      "mean_absolute_error: 0.1504008024930954\n",
      "mean_squared_error: 0.04025474563241005\n"
     ]
    }
   ],
   "source": [
    "# evaluate the model\n",
    "scores = model.evaluate(X_test, Y_test)\n",
    "print(\n",
    "    \"{}: {}\\n{}: {}\".format(\n",
    "        model.metrics_names[1], scores[1], model.metrics_names[2], scores[2]\n",
    "    )\n",
    ")"
   ]
  },
  {
   "cell_type": "code",
   "execution_count": 12,
   "metadata": {},
   "outputs": [],
   "source": [
    "# evaluate the model\n",
    "# print(\"[INFO] evaluating network...\")\n",
    "# predictions = model.predict(testX, batch_size=1)\n",
    "# print(\n",
    "#     classification_report(\n",
    "#         testY.argmax(axis=1),\n",
    "#         predictions.argmax(axis=1),\n",
    "#         target_names=lb.classes_,\n",
    "#     )\n",
    "# )"
   ]
  },
  {
   "cell_type": "code",
   "execution_count": 13,
   "metadata": {},
   "outputs": [
    {
     "data": {
      "image/png": "[encoded data removed]",
      "text/plain": [
       "<Figure size 432x288 with 2 Axes>"
      ]
     },
     "metadata": {},
     "output_type": "display_data"
    }
   ],
   "source": [
    "# plot the training loss, MAE and MSE\n",
    "N = np.arange(0, EPOCHS)\n",
    "plt.style.use(\"ggplot\")\n",
    "_, axs = plt.subplots(2, 1, sharex=True)\n",
    "axs[0].plot(N, H.history[\"mean_squared_error\"], label=\"train_mse\")\n",
    "axs[0].plot(N, H.history[\"val_mean_squared_error\"], label=\"val_mse\")\n",
    "axs[0].set_title(\"Training MSE\")\n",
    "axs[0].set_ylabel(\"MSE\")\n",
    "axs[0].legend()\n",
    "axs[1].plot(N, H.history[\"mean_absolute_error\"], label=\"train_mae\")\n",
    "axs[1].plot(N, H.history[\"val_mean_absolute_error\"], label=\"val_mae\")\n",
    "axs[1].set_title(\"Training MAE\")\n",
    "axs[1].set_ylabel(\"MAE\")\n",
    "axs[1].legend()\n",
    "plt.tight_layout()\n",
    "plt.xlabel(\"Epoch #\")\n",
    "plt.savefig(args[\"plot\"])"
   ]
  },
  {
   "cell_type": "code",
   "execution_count": 14,
   "metadata": {},
   "outputs": [
    {
     "name": "stdout",
     "output_type": "stream",
     "text": [
      "[INFO] serializing network...\n"
     ]
    }
   ],
   "source": [
    "# save the model to disk\n",
    "print(\"[INFO] serializing network...\")\n",
    "model.save(args[\"model\"])"
   ]
  },
  {
   "cell_type": "code",
   "execution_count": null,
   "metadata": {},
   "outputs": [],
   "source": []
  }
 ],
 "metadata": {
  "kernelspec": {
   "display_name": "Python 3",
   "language": "python",
   "name": "python3"
  },
  "language_info": {
   "codemirror_mode": {
    "name": "ipython",
    "version": 3
   },
   "file_extension": ".py",
   "mimetype": "text/x-python",
   "name": "python",
   "nbconvert_exporter": "python",
   "pygments_lexer": "ipython3",
   "version": "3.6.8"
  }
 },
 "nbformat": 4,
 "nbformat_minor": 2
}
