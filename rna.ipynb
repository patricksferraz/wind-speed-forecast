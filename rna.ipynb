{
 "cells": [
  {
   "cell_type": "code",
   "execution_count": 67,
   "metadata": {},
   "outputs": [],
   "source": [
    "from sklearn.model_selection import train_test_split\n",
    "from sklearn.metrics import classification_report\n",
    "from sklearn import preprocessing\n",
    "import matplotlib.pyplot as plt\n",
    "import tensorflow as tf\n",
    "import pandas as pd\n",
    "import numpy as np\n",
    "import matplotlib"
   ]
  },
  {
   "cell_type": "code",
   "execution_count": 3,
   "metadata": {},
   "outputs": [],
   "source": [
    "args = {\n",
    "    \"dataset\": \"confidential/train150.txt\",\n",
    "    \"model\": \"out/wind_speed_nn.model\",\n",
    "    \"plot\": \"out/wind_speed_plot.png\"\n",
    "}"
   ]
  },
  {
   "cell_type": "code",
   "execution_count": 4,
   "metadata": {},
   "outputs": [],
   "source": [
    "np.random.seed(8)"
   ]
  },
  {
   "cell_type": "code",
   "execution_count": 5,
   "metadata": {},
   "outputs": [],
   "source": [
    "dataframe = pd.read_csv(args[\"dataset\"], delimiter=\"\\t\", header=None)\n",
    "dataset = dataframe.values"
   ]
  },
  {
   "cell_type": "code",
   "execution_count": 123,
   "metadata": {},
   "outputs": [],
   "source": [
    "X = dataset[:-1]\n",
    "Y = dataset[1:, 4]"
   ]
  },
  {
   "cell_type": "code",
   "execution_count": 99,
   "metadata": {},
   "outputs": [],
   "source": [
    "# partition the data into training and testing splits using 75% of\n",
    "# the data for training and the remaining 25% for testing\n",
    "(X_train, X_test, Y_train, Y_test) = train_test_split(\n",
    "    X, Y, test_size=0.25, random_state=42\n",
    ")"
   ]
  },
  {
   "cell_type": "code",
   "execution_count": 49,
   "metadata": {},
   "outputs": [],
   "source": [
    "scaler = preprocessing.MinMaxScaler()\n",
    "X_train = scaler.fit_transform(X_train)\n",
    "X_test = scaler.transform(X_test)"
   ]
  },
  {
   "cell_type": "code",
   "execution_count": 51,
   "metadata": {},
   "outputs": [],
   "source": [
    "Y_train = scaler.fit_transform(Y_train.reshape(-1, 1))\n",
    "Y_test = scaler.transform(Y_test.reshape(-1, 1))"
   ]
  },
  {
   "cell_type": "code",
   "execution_count": 54,
   "metadata": {},
   "outputs": [],
   "source": [
    "# define the 9-9-6-1 architecture using tf.keras\n",
    "model = tf.keras.models.Sequential()\n",
    "model.add(tf.keras.layers.Dense(9, input_shape=(9,), activation=\"tanh\"))\n",
    "model.add(tf.keras.layers.Dense(9, activation=\"tanh\"))\n",
    "model.add(tf.keras.layers.Dense(6, activation=\"tanh\"))\n",
    "model.add(tf.keras.layers.Dense(1, activation=\"linear\"))"
   ]
  },
  {
   "cell_type": "code",
   "execution_count": 55,
   "metadata": {},
   "outputs": [
    {
     "name": "stdout",
     "output_type": "stream",
     "text": [
      "[INFO] training network...\n",
      "Train on 411 samples, validate on 138 samples\n",
      "Epoch 1/30\n",
      "411/411 [==============================] - 2s 6ms/sample - loss: 0.0378 - mean_absolute_error: 0.1459 - mean_squared_error: 0.0378 - val_loss: 0.0168 - val_mean_absolute_error: 0.1067 - val_mean_squared_error: 0.0168\n",
      "Epoch 2/30\n",
      "411/411 [==============================] - 2s 4ms/sample - loss: 0.0144 - mean_absolute_error: 0.0955 - mean_squared_error: 0.0144 - val_loss: 0.0108 - val_mean_absolute_error: 0.0849 - val_mean_squared_error: 0.0108\n",
      "Epoch 3/30\n",
      "411/411 [==============================] - 2s 4ms/sample - loss: 0.0126 - mean_absolute_error: 0.0891 - mean_squared_error: 0.0126 - val_loss: 0.0118 - val_mean_absolute_error: 0.0885 - val_mean_squared_error: 0.0118\n",
      "Epoch 4/30\n",
      "411/411 [==============================] - 2s 4ms/sample - loss: 0.0119 - mean_absolute_error: 0.0837 - mean_squared_error: 0.0119 - val_loss: 0.0096 - val_mean_absolute_error: 0.0794 - val_mean_squared_error: 0.0096\n",
      "Epoch 5/30\n",
      "411/411 [==============================] - 2s 4ms/sample - loss: 0.0120 - mean_absolute_error: 0.0874 - mean_squared_error: 0.0120 - val_loss: 0.0092 - val_mean_absolute_error: 0.0774 - val_mean_squared_error: 0.0092\n",
      "Epoch 6/30\n",
      "411/411 [==============================] - 2s 4ms/sample - loss: 0.0115 - mean_absolute_error: 0.0844 - mean_squared_error: 0.0115 - val_loss: 0.0090 - val_mean_absolute_error: 0.0771 - val_mean_squared_error: 0.0090\n",
      "Epoch 7/30\n",
      "411/411 [==============================] - 2s 4ms/sample - loss: 0.0114 - mean_absolute_error: 0.0855 - mean_squared_error: 0.0114 - val_loss: 0.0092 - val_mean_absolute_error: 0.0784 - val_mean_squared_error: 0.0092\n",
      "Epoch 8/30\n",
      "411/411 [==============================] - 2s 4ms/sample - loss: 0.0116 - mean_absolute_error: 0.0844 - mean_squared_error: 0.0116 - val_loss: 0.0116 - val_mean_absolute_error: 0.0874 - val_mean_squared_error: 0.0116\n",
      "Epoch 9/30\n",
      "411/411 [==============================] - 2s 4ms/sample - loss: 0.0115 - mean_absolute_error: 0.0840 - mean_squared_error: 0.0115 - val_loss: 0.0088 - val_mean_absolute_error: 0.0762 - val_mean_squared_error: 0.0088\n",
      "Epoch 10/30\n",
      "411/411 [==============================] - 2s 4ms/sample - loss: 0.0111 - mean_absolute_error: 0.0831 - mean_squared_error: 0.0111 - val_loss: 0.0114 - val_mean_absolute_error: 0.0866 - val_mean_squared_error: 0.0114\n",
      "Epoch 11/30\n",
      "411/411 [==============================] - 2s 4ms/sample - loss: 0.0111 - mean_absolute_error: 0.0812 - mean_squared_error: 0.0111 - val_loss: 0.0106 - val_mean_absolute_error: 0.0835 - val_mean_squared_error: 0.0106\n",
      "Epoch 12/30\n",
      "411/411 [==============================] - 2s 5ms/sample - loss: 0.0111 - mean_absolute_error: 0.0825 - mean_squared_error: 0.0111 - val_loss: 0.0161 - val_mean_absolute_error: 0.1058 - val_mean_squared_error: 0.0161\n",
      "Epoch 13/30\n",
      "411/411 [==============================] - 2s 4ms/sample - loss: 0.0111 - mean_absolute_error: 0.0825 - mean_squared_error: 0.0111 - val_loss: 0.0106 - val_mean_absolute_error: 0.0836 - val_mean_squared_error: 0.0106\n",
      "Epoch 14/30\n",
      "411/411 [==============================] - 2s 4ms/sample - loss: 0.0109 - mean_absolute_error: 0.0810 - mean_squared_error: 0.0109 - val_loss: 0.0122 - val_mean_absolute_error: 0.0897 - val_mean_squared_error: 0.0122\n",
      "Epoch 15/30\n",
      "411/411 [==============================] - 2s 5ms/sample - loss: 0.0107 - mean_absolute_error: 0.0813 - mean_squared_error: 0.0107 - val_loss: 0.0089 - val_mean_absolute_error: 0.0774 - val_mean_squared_error: 0.0089\n",
      "Epoch 16/30\n",
      "411/411 [==============================] - 2s 5ms/sample - loss: 0.0111 - mean_absolute_error: 0.0822 - mean_squared_error: 0.0111 - val_loss: 0.0107 - val_mean_absolute_error: 0.0840 - val_mean_squared_error: 0.0107\n",
      "Epoch 17/30\n",
      "411/411 [==============================] - 2s 4ms/sample - loss: 0.0112 - mean_absolute_error: 0.0822 - mean_squared_error: 0.0112 - val_loss: 0.0086 - val_mean_absolute_error: 0.0762 - val_mean_squared_error: 0.0086\n",
      "Epoch 18/30\n",
      "411/411 [==============================] - 2s 5ms/sample - loss: 0.0108 - mean_absolute_error: 0.0817 - mean_squared_error: 0.0108 - val_loss: 0.0085 - val_mean_absolute_error: 0.0759 - val_mean_squared_error: 0.0085\n",
      "Epoch 19/30\n",
      "411/411 [==============================] - 2s 5ms/sample - loss: 0.0112 - mean_absolute_error: 0.0829 - mean_squared_error: 0.0112 - val_loss: 0.0085 - val_mean_absolute_error: 0.0761 - val_mean_squared_error: 0.0085\n",
      "Epoch 20/30\n",
      "411/411 [==============================] - 2s 4ms/sample - loss: 0.0108 - mean_absolute_error: 0.0819 - mean_squared_error: 0.0108 - val_loss: 0.0131 - val_mean_absolute_error: 0.0942 - val_mean_squared_error: 0.0131\n",
      "Epoch 21/30\n",
      "411/411 [==============================] - 2s 4ms/sample - loss: 0.0111 - mean_absolute_error: 0.0823 - mean_squared_error: 0.0111 - val_loss: 0.0090 - val_mean_absolute_error: 0.0771 - val_mean_squared_error: 0.0090\n",
      "Epoch 22/30\n",
      "411/411 [==============================] - 2s 4ms/sample - loss: 0.0109 - mean_absolute_error: 0.0816 - mean_squared_error: 0.0109 - val_loss: 0.0085 - val_mean_absolute_error: 0.0762 - val_mean_squared_error: 0.0085\n",
      "Epoch 23/30\n",
      "411/411 [==============================] - 2s 4ms/sample - loss: 0.0107 - mean_absolute_error: 0.0820 - mean_squared_error: 0.0107 - val_loss: 0.0101 - val_mean_absolute_error: 0.0810 - val_mean_squared_error: 0.0101\n",
      "Epoch 24/30\n",
      "411/411 [==============================] - 2s 5ms/sample - loss: 0.0111 - mean_absolute_error: 0.0832 - mean_squared_error: 0.0111 - val_loss: 0.0090 - val_mean_absolute_error: 0.0780 - val_mean_squared_error: 0.0090\n",
      "Epoch 25/30\n",
      "411/411 [==============================] - 2s 5ms/sample - loss: 0.0111 - mean_absolute_error: 0.0815 - mean_squared_error: 0.0111 - val_loss: 0.0093 - val_mean_absolute_error: 0.0783 - val_mean_squared_error: 0.0093\n",
      "Epoch 26/30\n",
      "411/411 [==============================] - 2s 5ms/sample - loss: 0.0106 - mean_absolute_error: 0.0796 - mean_squared_error: 0.0106 - val_loss: 0.0096 - val_mean_absolute_error: 0.0792 - val_mean_squared_error: 0.0096\n",
      "Epoch 27/30\n",
      "411/411 [==============================] - 2s 5ms/sample - loss: 0.0104 - mean_absolute_error: 0.0815 - mean_squared_error: 0.0104 - val_loss: 0.0115 - val_mean_absolute_error: 0.0867 - val_mean_squared_error: 0.0115\n",
      "Epoch 28/30\n",
      "411/411 [==============================] - 2s 5ms/sample - loss: 0.0107 - mean_absolute_error: 0.0803 - mean_squared_error: 0.0107 - val_loss: 0.0087 - val_mean_absolute_error: 0.0773 - val_mean_squared_error: 0.0087\n",
      "Epoch 29/30\n",
      "411/411 [==============================] - 2s 4ms/sample - loss: 0.0104 - mean_absolute_error: 0.0791 - mean_squared_error: 0.0104 - val_loss: 0.0114 - val_mean_absolute_error: 0.0865 - val_mean_squared_error: 0.0114\n",
      "Epoch 30/30\n",
      "411/411 [==============================] - 2s 4ms/sample - loss: 0.0110 - mean_absolute_error: 0.0821 - mean_squared_error: 0.0110 - val_loss: 0.0087 - val_mean_absolute_error: 0.0757 - val_mean_squared_error: 0.0087\n"
     ]
    }
   ],
   "source": [
    "# initialize our initial learning rate and # of epochs to train for\n",
    "# INIT_LR = 0.01\n",
    "EPOCHS = 30\n",
    "\n",
    "# compile the model using SGD as our optimizer and categorical\n",
    "# cross-entropy loss (you'll want to use binary_crossentropy\n",
    "# for 2-class classification)\n",
    "print(\"[INFO] training network...\")\n",
    "# opt = tf.keras.optimizers.SGD(lr=INIT_LR)\n",
    "model.compile(loss=\"mse\", optimizer=\"sgd\", metrics=[\"mae\", \"mse\"])\n",
    "\n",
    "# train the neural network\n",
    "H = model.fit(\n",
    "    X_train,\n",
    "    Y_train,\n",
    "    validation_data=(X_test, Y_test),\n",
    "    epochs=EPOCHS,\n",
    "    batch_size=1,\n",
    ")"
   ]
  },
  {
   "cell_type": "code",
   "execution_count": 56,
   "metadata": {},
   "outputs": [
    {
     "name": "stdout",
     "output_type": "stream",
     "text": [
      "138/138 [==============================] - 0s 148us/sample - loss: 0.0087 - mean_absolute_error: 0.0757 - mean_squared_error: 0.0087\n",
      "mean_absolute_error: 0.07570993155241013\n",
      "mean_squared_error: 0.008680814877152443\n"
     ]
    }
   ],
   "source": [
    "# evaluate the model\n",
    "scores = model.evaluate(X_test, Y_test)\n",
    "print(\"{}: {}\\n{}: {}\".format(model.metrics_names[1], scores[1], model.metrics_names[2], scores[2]))"
   ]
  },
  {
   "cell_type": "code",
   "execution_count": 57,
   "metadata": {},
   "outputs": [],
   "source": [
    "# evaluate the model\n",
    "# print(\"[INFO] evaluating network...\")\n",
    "# predictions = model.predict(testX, batch_size=1)\n",
    "# print(\n",
    "#     classification_report(\n",
    "#         testY.argmax(axis=1),\n",
    "#         predictions.argmax(axis=1),\n",
    "#         target_names=lb.classes_,\n",
    "#     )\n",
    "# )"
   ]
  },
  {
   "cell_type": "code",
   "execution_count": 58,
   "metadata": {},
   "outputs": [
    {
     "data": {
      "image/png": "[encoded data removed]",
      "text/plain": [
       "<Figure size 432x288 with 2 Axes>"
      ]
     },
     "metadata": {},
     "output_type": "display_data"
    }
   ],
   "source": [
    "# plot the training loss, MAE and MSE\n",
    "N = np.arange(0, EPOCHS)\n",
    "plt.style.use(\"ggplot\")\n",
    "_, axs = plt.subplots(2, 1, sharex=True)\n",
    "axs[0].plot(N, H.history[\"mean_squared_error\"], label=\"train_mse\")\n",
    "axs[0].plot(N, H.history[\"val_mean_squared_error\"], label=\"val_mse\")\n",
    "axs[0].set_title(\"Training MSE\")\n",
    "axs[0].set_ylabel(\"MSE\")\n",
    "axs[0].legend()\n",
    "axs[1].plot(N, H.history[\"mean_absolute_error\"], label=\"train_mae\")\n",
    "axs[1].plot(N, H.history[\"val_mean_absolute_error\"], label=\"val_mae\")\n",
    "axs[1].set_title(\"Training MAE\")\n",
    "axs[1].set_ylabel(\"MAE\")\n",
    "axs[1].legend()\n",
    "plt.tight_layout()\n",
    "plt.xlabel(\"Epoch #\")\n",
    "plt.savefig(args[\"plot\"])"
   ]
  },
  {
   "cell_type": "code",
   "execution_count": 59,
   "metadata": {},
   "outputs": [
    {
     "name": "stdout",
     "output_type": "stream",
     "text": [
      "[INFO] serializing network...\n"
     ]
    }
   ],
   "source": [
    "# save the model to disk\n",
    "print(\"[INFO] serializing network...\")\n",
    "model.save(args[\"model\"])"
   ]
  }
 ],
 "metadata": {
  "kernelspec": {
   "display_name": "Python 3",
   "language": "python",
   "name": "python3"
  },
  "language_info": {
   "codemirror_mode": {
    "name": "ipython",
    "version": 3
   },
   "file_extension": ".py",
   "mimetype": "text/x-python",
   "name": "python",
   "nbconvert_exporter": "python",
   "pygments_lexer": "ipython3",
   "version": "3.6.8"
  }
 },
 "nbformat": 4,
 "nbformat_minor": 2
}
