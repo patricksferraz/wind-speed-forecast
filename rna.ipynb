{
 "cells": [
  {
   "cell_type": "code",
   "execution_count": 1,
   "metadata": {},
   "outputs": [],
   "source": [
    "from sklearn.model_selection import train_test_split\n",
    "from sklearn.metrics import classification_report\n",
    "from sklearn import preprocessing\n",
    "import matplotlib.pyplot as plt\n",
    "import tensorflow as tf\n",
    "import pandas as pd\n",
    "import numpy as np\n",
    "import matplotlib\n",
    "import joblib"
   ]
  },
  {
   "cell_type": "code",
   "execution_count": 2,
   "metadata": {},
   "outputs": [],
   "source": [
    "args = {\n",
    "    \"dataset\": \"confidential/train150.txt\",\n",
    "    \"model\": \"out/wind_speed_nn.model\",\n",
    "    \"plot\": \"out/wind_speed_plot.png\",\n",
    "    \"norm\": \"out/wind_speed_norm\"\n",
    "}"
   ]
  },
  {
   "cell_type": "code",
   "execution_count": 3,
   "metadata": {},
   "outputs": [],
   "source": [
    "np.random.seed(8)"
   ]
  },
  {
   "cell_type": "code",
   "execution_count": 4,
   "metadata": {},
   "outputs": [],
   "source": [
    "dataframe = pd.read_csv(args[\"dataset\"], delimiter=\"\\t\", header=None)\n",
    "dataset = dataframe.values"
   ]
  },
  {
   "cell_type": "code",
   "execution_count": 5,
   "metadata": {},
   "outputs": [],
   "source": [
    "X = dataset[:-1]\n",
    "Y = dataset[1:, 4]"
   ]
  },
  {
   "cell_type": "code",
   "execution_count": 6,
   "metadata": {},
   "outputs": [],
   "source": [
    "# partition the data into training and testing splits using 75% of\n",
    "# the data for training and the remaining 25% for testing\n",
    "(X_train, X_test, Y_train, Y_test) = train_test_split(\n",
    "    X, Y, test_size=0.25, random_state=42\n",
    ")"
   ]
  },
  {
   "cell_type": "code",
   "execution_count": 7,
   "metadata": {},
   "outputs": [
    {
     "data": {
      "text/plain": [
       "['out/wind_speed_norm_x.joblib']"
      ]
     },
     "execution_count": 7,
     "metadata": {},
     "output_type": "execute_result"
    }
   ],
   "source": [
    "scaler = preprocessing.MinMaxScaler()\n",
    "X_train = scaler.fit_transform(X_train)\n",
    "X_test = scaler.transform(X_test)\n",
    "\n",
    "# save scale of x\n",
    "joblib.dump(scaler, \"{}_x.joblib\".format(args[\"norm\"]))"
   ]
  },
  {
   "cell_type": "code",
   "execution_count": 8,
   "metadata": {},
   "outputs": [
    {
     "data": {
      "text/plain": [
       "['out/wind_speed_norm_y.joblib']"
      ]
     },
     "execution_count": 8,
     "metadata": {},
     "output_type": "execute_result"
    }
   ],
   "source": [
    "Y_train = scaler.fit_transform(Y_train.reshape(-1, 1))\n",
    "Y_test = scaler.transform(Y_test.reshape(-1, 1))\n",
    "\n",
    "# save scale of y\n",
    "joblib.dump(scaler, \"{}_y.joblib\".format(args[\"norm\"]))"
   ]
  },
  {
   "cell_type": "code",
   "execution_count": 9,
   "metadata": {},
   "outputs": [
    {
     "name": "stdout",
     "output_type": "stream",
     "text": [
      "WARNING:tensorflow:From /opt/anaconda3/envs/prediction-wind-speed-mp/lib/python3.6/site-packages/tensorflow/python/ops/resource_variable_ops.py:435: colocate_with (from tensorflow.python.framework.ops) is deprecated and will be removed in a future version.\n",
      "Instructions for updating:\n",
      "Colocations handled automatically by placer.\n"
     ]
    }
   ],
   "source": [
    "# define the 9-9-6-1 architecture using tf.keras\n",
    "model = tf.keras.models.Sequential()\n",
    "model.add(tf.keras.layers.Dense(9, input_shape=(9,), activation=\"tanh\"))\n",
    "model.add(tf.keras.layers.Dense(9, activation=\"tanh\"))\n",
    "model.add(tf.keras.layers.Dense(6, activation=\"tanh\"))\n",
    "model.add(tf.keras.layers.Dense(1, activation=\"linear\"))"
   ]
  },
  {
   "cell_type": "code",
   "execution_count": 10,
   "metadata": {},
   "outputs": [
    {
     "name": "stdout",
     "output_type": "stream",
     "text": [
      "[INFO] training network...\n",
      "WARNING:tensorflow:From /opt/anaconda3/envs/prediction-wind-speed-mp/lib/python3.6/site-packages/tensorflow/python/keras/utils/losses_utils.py:170: to_float (from tensorflow.python.ops.math_ops) is deprecated and will be removed in a future version.\n",
      "Instructions for updating:\n",
      "Use tf.cast instead.\n",
      "Train on 411 samples, validate on 138 samples\n",
      "WARNING:tensorflow:From /opt/anaconda3/envs/prediction-wind-speed-mp/lib/python3.6/site-packages/tensorflow/python/ops/math_ops.py:3066: to_int32 (from tensorflow.python.ops.math_ops) is deprecated and will be removed in a future version.\n",
      "Instructions for updating:\n",
      "Use tf.cast instead.\n",
      "Epoch 1/100\n",
      "411/411 [==============================] - 1s 3ms/sample - loss: 0.0363 - mean_absolute_error: 0.1519 - mean_squared_error: 0.0363 - val_loss: 0.0291 - val_mean_absolute_error: 0.1377 - val_mean_squared_error: 0.0291\n",
      "Epoch 2/100\n",
      "411/411 [==============================] - 1s 2ms/sample - loss: 0.0205 - mean_absolute_error: 0.1124 - mean_squared_error: 0.0205 - val_loss: 0.0201 - val_mean_absolute_error: 0.1158 - val_mean_squared_error: 0.0201\n",
      "Epoch 3/100\n",
      "411/411 [==============================] - 1s 2ms/sample - loss: 0.0163 - mean_absolute_error: 0.1003 - mean_squared_error: 0.0163 - val_loss: 0.0160 - val_mean_absolute_error: 0.1015 - val_mean_squared_error: 0.0160\n",
      "Epoch 4/100\n",
      "411/411 [==============================] - 1s 2ms/sample - loss: 0.0144 - mean_absolute_error: 0.0929 - mean_squared_error: 0.0144 - val_loss: 0.0148 - val_mean_absolute_error: 0.0971 - val_mean_squared_error: 0.0148\n",
      "Epoch 5/100\n",
      "411/411 [==============================] - 1s 2ms/sample - loss: 0.0134 - mean_absolute_error: 0.0909 - mean_squared_error: 0.0134 - val_loss: 0.0122 - val_mean_absolute_error: 0.0896 - val_mean_squared_error: 0.0122\n",
      "Epoch 6/100\n",
      "411/411 [==============================] - 1s 2ms/sample - loss: 0.0128 - mean_absolute_error: 0.0882 - mean_squared_error: 0.0128 - val_loss: 0.0141 - val_mean_absolute_error: 0.0957 - val_mean_squared_error: 0.0141\n",
      "Epoch 7/100\n",
      "411/411 [==============================] - 1s 2ms/sample - loss: 0.0121 - mean_absolute_error: 0.0866 - mean_squared_error: 0.0121 - val_loss: 0.0172 - val_mean_absolute_error: 0.1057 - val_mean_squared_error: 0.0172\n",
      "Epoch 8/100\n",
      "411/411 [==============================] - 1s 2ms/sample - loss: 0.0117 - mean_absolute_error: 0.0847 - mean_squared_error: 0.0117 - val_loss: 0.0102 - val_mean_absolute_error: 0.0827 - val_mean_squared_error: 0.0102\n",
      "Epoch 9/100\n",
      "411/411 [==============================] - 1s 2ms/sample - loss: 0.0115 - mean_absolute_error: 0.0845 - mean_squared_error: 0.0115 - val_loss: 0.0100 - val_mean_absolute_error: 0.0816 - val_mean_squared_error: 0.0100\n",
      "Epoch 10/100\n",
      "411/411 [==============================] - 1s 2ms/sample - loss: 0.0112 - mean_absolute_error: 0.0834 - mean_squared_error: 0.0112 - val_loss: 0.0097 - val_mean_absolute_error: 0.0800 - val_mean_squared_error: 0.0097\n",
      "Epoch 11/100\n",
      "411/411 [==============================] - 1s 2ms/sample - loss: 0.0110 - mean_absolute_error: 0.0830 - mean_squared_error: 0.0110 - val_loss: 0.0100 - val_mean_absolute_error: 0.0810 - val_mean_squared_error: 0.0100\n",
      "Epoch 12/100\n",
      "411/411 [==============================] - 1s 2ms/sample - loss: 0.0111 - mean_absolute_error: 0.0826 - mean_squared_error: 0.0111 - val_loss: 0.0111 - val_mean_absolute_error: 0.0842 - val_mean_squared_error: 0.0111\n",
      "Epoch 13/100\n",
      "411/411 [==============================] - 1s 2ms/sample - loss: 0.0107 - mean_absolute_error: 0.0805 - mean_squared_error: 0.0107 - val_loss: 0.0123 - val_mean_absolute_error: 0.0895 - val_mean_squared_error: 0.0123\n",
      "Epoch 14/100\n",
      "411/411 [==============================] - 1s 2ms/sample - loss: 0.0110 - mean_absolute_error: 0.0814 - mean_squared_error: 0.0110 - val_loss: 0.0097 - val_mean_absolute_error: 0.0802 - val_mean_squared_error: 0.0097\n",
      "Epoch 15/100\n",
      "411/411 [==============================] - 1s 2ms/sample - loss: 0.0110 - mean_absolute_error: 0.0816 - mean_squared_error: 0.0110 - val_loss: 0.0120 - val_mean_absolute_error: 0.0887 - val_mean_squared_error: 0.0120\n",
      "Epoch 16/100\n",
      "411/411 [==============================] - 1s 2ms/sample - loss: 0.0108 - mean_absolute_error: 0.0813 - mean_squared_error: 0.0108 - val_loss: 0.0100 - val_mean_absolute_error: 0.0804 - val_mean_squared_error: 0.0100\n",
      "Epoch 17/100\n",
      "411/411 [==============================] - 1s 2ms/sample - loss: 0.0105 - mean_absolute_error: 0.0786 - mean_squared_error: 0.0105 - val_loss: 0.0091 - val_mean_absolute_error: 0.0763 - val_mean_squared_error: 0.0091\n",
      "Epoch 18/100\n",
      "411/411 [==============================] - 1s 2ms/sample - loss: 0.0104 - mean_absolute_error: 0.0786 - mean_squared_error: 0.0104 - val_loss: 0.0091 - val_mean_absolute_error: 0.0771 - val_mean_squared_error: 0.0091\n",
      "Epoch 19/100\n",
      "411/411 [==============================] - 1s 2ms/sample - loss: 0.0108 - mean_absolute_error: 0.0807 - mean_squared_error: 0.0108 - val_loss: 0.0093 - val_mean_absolute_error: 0.0770 - val_mean_squared_error: 0.0093\n",
      "Epoch 20/100\n",
      "411/411 [==============================] - 1s 2ms/sample - loss: 0.0107 - mean_absolute_error: 0.0803 - mean_squared_error: 0.0107 - val_loss: 0.0087 - val_mean_absolute_error: 0.0748 - val_mean_squared_error: 0.0087\n",
      "Epoch 21/100\n",
      "411/411 [==============================] - 1s 2ms/sample - loss: 0.0106 - mean_absolute_error: 0.0783 - mean_squared_error: 0.0106 - val_loss: 0.0092 - val_mean_absolute_error: 0.0775 - val_mean_squared_error: 0.0092\n",
      "Epoch 22/100\n",
      "411/411 [==============================] - 1s 2ms/sample - loss: 0.0105 - mean_absolute_error: 0.0793 - mean_squared_error: 0.0105 - val_loss: 0.0089 - val_mean_absolute_error: 0.0762 - val_mean_squared_error: 0.0089\n",
      "Epoch 23/100\n",
      "411/411 [==============================] - 1s 2ms/sample - loss: 0.0106 - mean_absolute_error: 0.0795 - mean_squared_error: 0.0106 - val_loss: 0.0115 - val_mean_absolute_error: 0.0864 - val_mean_squared_error: 0.0115\n",
      "Epoch 24/100\n",
      "411/411 [==============================] - 1s 2ms/sample - loss: 0.0106 - mean_absolute_error: 0.0807 - mean_squared_error: 0.0106 - val_loss: 0.0088 - val_mean_absolute_error: 0.0747 - val_mean_squared_error: 0.0088\n",
      "Epoch 25/100\n",
      "411/411 [==============================] - 1s 2ms/sample - loss: 0.0105 - mean_absolute_error: 0.0792 - mean_squared_error: 0.0105 - val_loss: 0.0100 - val_mean_absolute_error: 0.0805 - val_mean_squared_error: 0.0100\n",
      "Epoch 26/100\n",
      "411/411 [==============================] - 1s 3ms/sample - loss: 0.0106 - mean_absolute_error: 0.0794 - mean_squared_error: 0.0106 - val_loss: 0.0090 - val_mean_absolute_error: 0.0763 - val_mean_squared_error: 0.0090\n",
      "Epoch 27/100\n",
      "411/411 [==============================] - 1s 2ms/sample - loss: 0.0102 - mean_absolute_error: 0.0781 - mean_squared_error: 0.0102 - val_loss: 0.0087 - val_mean_absolute_error: 0.0748 - val_mean_squared_error: 0.0087\n",
      "Epoch 28/100\n",
      "411/411 [==============================] - 1s 2ms/sample - loss: 0.0103 - mean_absolute_error: 0.0786 - mean_squared_error: 0.0103 - val_loss: 0.0095 - val_mean_absolute_error: 0.0782 - val_mean_squared_error: 0.0095\n",
      "Epoch 29/100\n",
      "411/411 [==============================] - 1s 2ms/sample - loss: 0.0106 - mean_absolute_error: 0.0803 - mean_squared_error: 0.0106 - val_loss: 0.0093 - val_mean_absolute_error: 0.0770 - val_mean_squared_error: 0.0093\n",
      "Epoch 30/100\n",
      "411/411 [==============================] - 1s 2ms/sample - loss: 0.0105 - mean_absolute_error: 0.0794 - mean_squared_error: 0.0105 - val_loss: 0.0094 - val_mean_absolute_error: 0.0778 - val_mean_squared_error: 0.0094\n",
      "Epoch 31/100\n",
      "411/411 [==============================] - 1s 2ms/sample - loss: 0.0105 - mean_absolute_error: 0.0786 - mean_squared_error: 0.0105 - val_loss: 0.0090 - val_mean_absolute_error: 0.0758 - val_mean_squared_error: 0.0090\n",
      "Epoch 32/100\n",
      "411/411 [==============================] - 1s 2ms/sample - loss: 0.0103 - mean_absolute_error: 0.0793 - mean_squared_error: 0.0103 - val_loss: 0.0108 - val_mean_absolute_error: 0.0832 - val_mean_squared_error: 0.0108\n",
      "Epoch 33/100\n",
      "411/411 [==============================] - 1s 2ms/sample - loss: 0.0104 - mean_absolute_error: 0.0795 - mean_squared_error: 0.0104 - val_loss: 0.0089 - val_mean_absolute_error: 0.0755 - val_mean_squared_error: 0.0089\n"
     ]
    },
    {
     "name": "stdout",
     "output_type": "stream",
     "text": [
      "Epoch 34/100\n",
      "411/411 [==============================] - 1s 2ms/sample - loss: 0.0105 - mean_absolute_error: 0.0798 - mean_squared_error: 0.0105 - val_loss: 0.0088 - val_mean_absolute_error: 0.0751 - val_mean_squared_error: 0.0088\n",
      "Epoch 35/100\n",
      "411/411 [==============================] - 1s 2ms/sample - loss: 0.0103 - mean_absolute_error: 0.0805 - mean_squared_error: 0.0103 - val_loss: 0.0088 - val_mean_absolute_error: 0.0746 - val_mean_squared_error: 0.0088\n",
      "Epoch 36/100\n",
      "411/411 [==============================] - 1s 2ms/sample - loss: 0.0106 - mean_absolute_error: 0.0801 - mean_squared_error: 0.0106 - val_loss: 0.0088 - val_mean_absolute_error: 0.0749 - val_mean_squared_error: 0.0088\n",
      "Epoch 37/100\n",
      "411/411 [==============================] - 1s 2ms/sample - loss: 0.0104 - mean_absolute_error: 0.0798 - mean_squared_error: 0.0104 - val_loss: 0.0089 - val_mean_absolute_error: 0.0749 - val_mean_squared_error: 0.0089\n",
      "Epoch 38/100\n",
      "411/411 [==============================] - 1s 2ms/sample - loss: 0.0101 - mean_absolute_error: 0.0786 - mean_squared_error: 0.0101 - val_loss: 0.0087 - val_mean_absolute_error: 0.0743 - val_mean_squared_error: 0.0087\n",
      "Epoch 39/100\n",
      "411/411 [==============================] - 1s 2ms/sample - loss: 0.0103 - mean_absolute_error: 0.0791 - mean_squared_error: 0.0103 - val_loss: 0.0088 - val_mean_absolute_error: 0.0748 - val_mean_squared_error: 0.0088\n",
      "Epoch 40/100\n",
      "411/411 [==============================] - 1s 2ms/sample - loss: 0.0103 - mean_absolute_error: 0.0785 - mean_squared_error: 0.0103 - val_loss: 0.0086 - val_mean_absolute_error: 0.0736 - val_mean_squared_error: 0.0086\n",
      "Epoch 41/100\n",
      "411/411 [==============================] - 1s 3ms/sample - loss: 0.0105 - mean_absolute_error: 0.0789 - mean_squared_error: 0.0105 - val_loss: 0.0088 - val_mean_absolute_error: 0.0745 - val_mean_squared_error: 0.0088\n",
      "Epoch 42/100\n",
      "411/411 [==============================] - 1s 2ms/sample - loss: 0.0104 - mean_absolute_error: 0.0797 - mean_squared_error: 0.0104 - val_loss: 0.0087 - val_mean_absolute_error: 0.0741 - val_mean_squared_error: 0.0087\n",
      "Epoch 43/100\n",
      "411/411 [==============================] - 1s 2ms/sample - loss: 0.0101 - mean_absolute_error: 0.0772 - mean_squared_error: 0.0101 - val_loss: 0.0087 - val_mean_absolute_error: 0.0745 - val_mean_squared_error: 0.0087\n",
      "Epoch 44/100\n",
      "411/411 [==============================] - 1s 2ms/sample - loss: 0.0101 - mean_absolute_error: 0.0777 - mean_squared_error: 0.0101 - val_loss: 0.0089 - val_mean_absolute_error: 0.0751 - val_mean_squared_error: 0.0089\n",
      "Epoch 45/100\n",
      "411/411 [==============================] - 1s 2ms/sample - loss: 0.0104 - mean_absolute_error: 0.0788 - mean_squared_error: 0.0104 - val_loss: 0.0106 - val_mean_absolute_error: 0.0823 - val_mean_squared_error: 0.0106\n",
      "Epoch 46/100\n",
      "411/411 [==============================] - 1s 2ms/sample - loss: 0.0101 - mean_absolute_error: 0.0780 - mean_squared_error: 0.0101 - val_loss: 0.0087 - val_mean_absolute_error: 0.0739 - val_mean_squared_error: 0.0087\n",
      "Epoch 47/100\n",
      "411/411 [==============================] - 1s 2ms/sample - loss: 0.0103 - mean_absolute_error: 0.0789 - mean_squared_error: 0.0103 - val_loss: 0.0097 - val_mean_absolute_error: 0.0787 - val_mean_squared_error: 0.0097\n",
      "Epoch 48/100\n",
      "411/411 [==============================] - 1s 2ms/sample - loss: 0.0102 - mean_absolute_error: 0.0775 - mean_squared_error: 0.0102 - val_loss: 0.0092 - val_mean_absolute_error: 0.0764 - val_mean_squared_error: 0.0092\n",
      "Epoch 49/100\n",
      "411/411 [==============================] - 1s 2ms/sample - loss: 0.0102 - mean_absolute_error: 0.0790 - mean_squared_error: 0.0102 - val_loss: 0.0088 - val_mean_absolute_error: 0.0746 - val_mean_squared_error: 0.0088\n",
      "Epoch 50/100\n",
      "411/411 [==============================] - 1s 2ms/sample - loss: 0.0102 - mean_absolute_error: 0.0776 - mean_squared_error: 0.0102 - val_loss: 0.0087 - val_mean_absolute_error: 0.0739 - val_mean_squared_error: 0.0087\n",
      "Epoch 51/100\n",
      "411/411 [==============================] - 1s 2ms/sample - loss: 0.0103 - mean_absolute_error: 0.0794 - mean_squared_error: 0.0103 - val_loss: 0.0089 - val_mean_absolute_error: 0.0746 - val_mean_squared_error: 0.0089\n",
      "Epoch 52/100\n",
      "411/411 [==============================] - 1s 2ms/sample - loss: 0.0100 - mean_absolute_error: 0.0783 - mean_squared_error: 0.0100 - val_loss: 0.0088 - val_mean_absolute_error: 0.0743 - val_mean_squared_error: 0.0088\n",
      "Epoch 53/100\n",
      "411/411 [==============================] - 1s 2ms/sample - loss: 0.0101 - mean_absolute_error: 0.0789 - mean_squared_error: 0.0101 - val_loss: 0.0094 - val_mean_absolute_error: 0.0775 - val_mean_squared_error: 0.0094\n",
      "Epoch 54/100\n",
      "411/411 [==============================] - 1s 2ms/sample - loss: 0.0103 - mean_absolute_error: 0.0786 - mean_squared_error: 0.0103 - val_loss: 0.0093 - val_mean_absolute_error: 0.0768 - val_mean_squared_error: 0.0093\n",
      "Epoch 55/100\n",
      "411/411 [==============================] - 1s 2ms/sample - loss: 0.0103 - mean_absolute_error: 0.0789 - mean_squared_error: 0.0103 - val_loss: 0.0093 - val_mean_absolute_error: 0.0765 - val_mean_squared_error: 0.0093\n",
      "Epoch 56/100\n",
      "411/411 [==============================] - 1s 2ms/sample - loss: 0.0101 - mean_absolute_error: 0.0787 - mean_squared_error: 0.0101 - val_loss: 0.0091 - val_mean_absolute_error: 0.0759 - val_mean_squared_error: 0.0091\n",
      "Epoch 57/100\n",
      "411/411 [==============================] - 1s 2ms/sample - loss: 0.0102 - mean_absolute_error: 0.0778 - mean_squared_error: 0.0102 - val_loss: 0.0097 - val_mean_absolute_error: 0.0786 - val_mean_squared_error: 0.0097\n",
      "Epoch 58/100\n",
      "411/411 [==============================] - 1s 2ms/sample - loss: 0.0100 - mean_absolute_error: 0.0775 - mean_squared_error: 0.0100 - val_loss: 0.0105 - val_mean_absolute_error: 0.0821 - val_mean_squared_error: 0.0105\n",
      "Epoch 59/100\n",
      "411/411 [==============================] - 1s 2ms/sample - loss: 0.0102 - mean_absolute_error: 0.0778 - mean_squared_error: 0.0102 - val_loss: 0.0093 - val_mean_absolute_error: 0.0766 - val_mean_squared_error: 0.0093\n",
      "Epoch 60/100\n",
      "411/411 [==============================] - 1s 2ms/sample - loss: 0.0100 - mean_absolute_error: 0.0768 - mean_squared_error: 0.0100 - val_loss: 0.0090 - val_mean_absolute_error: 0.0750 - val_mean_squared_error: 0.0090\n",
      "Epoch 61/100\n",
      "411/411 [==============================] - 1s 2ms/sample - loss: 0.0100 - mean_absolute_error: 0.0777 - mean_squared_error: 0.0100 - val_loss: 0.0089 - val_mean_absolute_error: 0.0746 - val_mean_squared_error: 0.0089\n",
      "Epoch 62/100\n",
      "411/411 [==============================] - 1s 2ms/sample - loss: 0.0102 - mean_absolute_error: 0.0784 - mean_squared_error: 0.0102 - val_loss: 0.0103 - val_mean_absolute_error: 0.0812 - val_mean_squared_error: 0.0103\n",
      "Epoch 63/100\n",
      "411/411 [==============================] - 1s 2ms/sample - loss: 0.0102 - mean_absolute_error: 0.0783 - mean_squared_error: 0.0102 - val_loss: 0.0088 - val_mean_absolute_error: 0.0743 - val_mean_squared_error: 0.0088\n",
      "Epoch 64/100\n",
      "411/411 [==============================] - 1s 2ms/sample - loss: 0.0099 - mean_absolute_error: 0.0774 - mean_squared_error: 0.0099 - val_loss: 0.0086 - val_mean_absolute_error: 0.0735 - val_mean_squared_error: 0.0086\n",
      "Epoch 65/100\n",
      "411/411 [==============================] - 1s 2ms/sample - loss: 0.0103 - mean_absolute_error: 0.0785 - mean_squared_error: 0.0103 - val_loss: 0.0087 - val_mean_absolute_error: 0.0740 - val_mean_squared_error: 0.0087\n",
      "Epoch 66/100\n",
      "411/411 [==============================] - 1s 2ms/sample - loss: 0.0100 - mean_absolute_error: 0.0779 - mean_squared_error: 0.0100 - val_loss: 0.0124 - val_mean_absolute_error: 0.0900 - val_mean_squared_error: 0.0124\n",
      "Epoch 67/100\n",
      "411/411 [==============================] - 1s 2ms/sample - loss: 0.0103 - mean_absolute_error: 0.0795 - mean_squared_error: 0.0103 - val_loss: 0.0091 - val_mean_absolute_error: 0.0758 - val_mean_squared_error: 0.0091\n",
      "Epoch 68/100\n",
      "411/411 [==============================] - 1s 2ms/sample - loss: 0.0102 - mean_absolute_error: 0.0777 - mean_squared_error: 0.0102 - val_loss: 0.0086 - val_mean_absolute_error: 0.0734 - val_mean_squared_error: 0.0086\n",
      "Epoch 69/100\n",
      "411/411 [==============================] - 1s 2ms/sample - loss: 0.0100 - mean_absolute_error: 0.0777 - mean_squared_error: 0.0100 - val_loss: 0.0096 - val_mean_absolute_error: 0.0778 - val_mean_squared_error: 0.0096\n"
     ]
    },
    {
     "name": "stdout",
     "output_type": "stream",
     "text": [
      "Epoch 70/100\n",
      "411/411 [==============================] - 1s 2ms/sample - loss: 0.0102 - mean_absolute_error: 0.0791 - mean_squared_error: 0.0102 - val_loss: 0.0091 - val_mean_absolute_error: 0.0759 - val_mean_squared_error: 0.0091\n",
      "Epoch 71/100\n",
      "411/411 [==============================] - 1s 2ms/sample - loss: 0.0103 - mean_absolute_error: 0.0782 - mean_squared_error: 0.0103 - val_loss: 0.0092 - val_mean_absolute_error: 0.0765 - val_mean_squared_error: 0.0092\n",
      "Epoch 72/100\n",
      "411/411 [==============================] - 1s 2ms/sample - loss: 0.0098 - mean_absolute_error: 0.0768 - mean_squared_error: 0.0098 - val_loss: 0.0090 - val_mean_absolute_error: 0.0754 - val_mean_squared_error: 0.0090\n",
      "Epoch 73/100\n",
      "411/411 [==============================] - 1s 2ms/sample - loss: 0.0099 - mean_absolute_error: 0.0785 - mean_squared_error: 0.0099 - val_loss: 0.0114 - val_mean_absolute_error: 0.0852 - val_mean_squared_error: 0.0114\n",
      "Epoch 74/100\n",
      "411/411 [==============================] - 1s 2ms/sample - loss: 0.0101 - mean_absolute_error: 0.0780 - mean_squared_error: 0.0101 - val_loss: 0.0088 - val_mean_absolute_error: 0.0746 - val_mean_squared_error: 0.0088\n",
      "Epoch 75/100\n",
      "411/411 [==============================] - 1s 2ms/sample - loss: 0.0099 - mean_absolute_error: 0.0764 - mean_squared_error: 0.0099 - val_loss: 0.0096 - val_mean_absolute_error: 0.0784 - val_mean_squared_error: 0.0096\n",
      "Epoch 76/100\n",
      "411/411 [==============================] - 1s 2ms/sample - loss: 0.0102 - mean_absolute_error: 0.0785 - mean_squared_error: 0.0102 - val_loss: 0.0091 - val_mean_absolute_error: 0.0755 - val_mean_squared_error: 0.0091\n",
      "Epoch 77/100\n",
      "411/411 [==============================] - 1s 2ms/sample - loss: 0.0099 - mean_absolute_error: 0.0768 - mean_squared_error: 0.0099 - val_loss: 0.0088 - val_mean_absolute_error: 0.0744 - val_mean_squared_error: 0.0088\n",
      "Epoch 78/100\n",
      "411/411 [==============================] - 1s 3ms/sample - loss: 0.0101 - mean_absolute_error: 0.0779 - mean_squared_error: 0.0101 - val_loss: 0.0098 - val_mean_absolute_error: 0.0793 - val_mean_squared_error: 0.0098\n",
      "Epoch 79/100\n",
      "411/411 [==============================] - 1s 2ms/sample - loss: 0.0100 - mean_absolute_error: 0.0773 - mean_squared_error: 0.0100 - val_loss: 0.0087 - val_mean_absolute_error: 0.0742 - val_mean_squared_error: 0.0087\n",
      "Epoch 80/100\n",
      "411/411 [==============================] - 1s 2ms/sample - loss: 0.0101 - mean_absolute_error: 0.0772 - mean_squared_error: 0.0101 - val_loss: 0.0090 - val_mean_absolute_error: 0.0755 - val_mean_squared_error: 0.0090\n",
      "Epoch 81/100\n",
      "411/411 [==============================] - 1s 2ms/sample - loss: 0.0101 - mean_absolute_error: 0.0784 - mean_squared_error: 0.0101 - val_loss: 0.0090 - val_mean_absolute_error: 0.0755 - val_mean_squared_error: 0.0090\n",
      "Epoch 82/100\n",
      "411/411 [==============================] - 1s 2ms/sample - loss: 0.0099 - mean_absolute_error: 0.0763 - mean_squared_error: 0.0099 - val_loss: 0.0112 - val_mean_absolute_error: 0.0848 - val_mean_squared_error: 0.0112\n",
      "Epoch 83/100\n",
      "411/411 [==============================] - 1s 2ms/sample - loss: 0.0102 - mean_absolute_error: 0.0791 - mean_squared_error: 0.0102 - val_loss: 0.0098 - val_mean_absolute_error: 0.0786 - val_mean_squared_error: 0.0098\n",
      "Epoch 84/100\n",
      "411/411 [==============================] - 1s 2ms/sample - loss: 0.0102 - mean_absolute_error: 0.0780 - mean_squared_error: 0.0102 - val_loss: 0.0089 - val_mean_absolute_error: 0.0743 - val_mean_squared_error: 0.0089\n",
      "Epoch 85/100\n",
      "411/411 [==============================] - 1s 2ms/sample - loss: 0.0102 - mean_absolute_error: 0.0778 - mean_squared_error: 0.0102 - val_loss: 0.0096 - val_mean_absolute_error: 0.0779 - val_mean_squared_error: 0.0096\n",
      "Epoch 86/100\n",
      "411/411 [==============================] - 1s 2ms/sample - loss: 0.0101 - mean_absolute_error: 0.0774 - mean_squared_error: 0.0101 - val_loss: 0.0096 - val_mean_absolute_error: 0.0779 - val_mean_squared_error: 0.0096\n",
      "Epoch 87/100\n",
      "411/411 [==============================] - 1s 2ms/sample - loss: 0.0099 - mean_absolute_error: 0.0765 - mean_squared_error: 0.0099 - val_loss: 0.0093 - val_mean_absolute_error: 0.0764 - val_mean_squared_error: 0.0093\n",
      "Epoch 88/100\n",
      "411/411 [==============================] - 1s 2ms/sample - loss: 0.0099 - mean_absolute_error: 0.0758 - mean_squared_error: 0.0099 - val_loss: 0.0087 - val_mean_absolute_error: 0.0734 - val_mean_squared_error: 0.0087\n",
      "Epoch 89/100\n",
      "411/411 [==============================] - 1s 2ms/sample - loss: 0.0101 - mean_absolute_error: 0.0776 - mean_squared_error: 0.0101 - val_loss: 0.0087 - val_mean_absolute_error: 0.0738 - val_mean_squared_error: 0.0087\n",
      "Epoch 90/100\n",
      "411/411 [==============================] - 1s 3ms/sample - loss: 0.0102 - mean_absolute_error: 0.0774 - mean_squared_error: 0.0102 - val_loss: 0.0098 - val_mean_absolute_error: 0.0793 - val_mean_squared_error: 0.0098\n",
      "Epoch 91/100\n",
      "411/411 [==============================] - 1s 3ms/sample - loss: 0.0101 - mean_absolute_error: 0.0783 - mean_squared_error: 0.0101 - val_loss: 0.0087 - val_mean_absolute_error: 0.0740 - val_mean_squared_error: 0.0087\n",
      "Epoch 92/100\n",
      "411/411 [==============================] - 1s 3ms/sample - loss: 0.0098 - mean_absolute_error: 0.0771 - mean_squared_error: 0.0098 - val_loss: 0.0096 - val_mean_absolute_error: 0.0784 - val_mean_squared_error: 0.0096\n",
      "Epoch 93/100\n",
      "411/411 [==============================] - 1s 3ms/sample - loss: 0.0100 - mean_absolute_error: 0.0772 - mean_squared_error: 0.0100 - val_loss: 0.0088 - val_mean_absolute_error: 0.0743 - val_mean_squared_error: 0.0088\n",
      "Epoch 94/100\n",
      "411/411 [==============================] - 1s 3ms/sample - loss: 0.0101 - mean_absolute_error: 0.0765 - mean_squared_error: 0.0101 - val_loss: 0.0087 - val_mean_absolute_error: 0.0738 - val_mean_squared_error: 0.0087\n",
      "Epoch 95/100\n",
      "411/411 [==============================] - 1s 3ms/sample - loss: 0.0100 - mean_absolute_error: 0.0758 - mean_squared_error: 0.0100 - val_loss: 0.0087 - val_mean_absolute_error: 0.0739 - val_mean_squared_error: 0.0087\n",
      "Epoch 96/100\n",
      "411/411 [==============================] - 1s 3ms/sample - loss: 0.0098 - mean_absolute_error: 0.0765 - mean_squared_error: 0.0098 - val_loss: 0.0087 - val_mean_absolute_error: 0.0738 - val_mean_squared_error: 0.0087\n",
      "Epoch 97/100\n",
      "411/411 [==============================] - 1s 3ms/sample - loss: 0.0100 - mean_absolute_error: 0.0773 - mean_squared_error: 0.0100 - val_loss: 0.0092 - val_mean_absolute_error: 0.0765 - val_mean_squared_error: 0.0092\n",
      "Epoch 98/100\n",
      "411/411 [==============================] - 1s 3ms/sample - loss: 0.0101 - mean_absolute_error: 0.0768 - mean_squared_error: 0.0101 - val_loss: 0.0089 - val_mean_absolute_error: 0.0746 - val_mean_squared_error: 0.0089\n",
      "Epoch 99/100\n",
      "411/411 [==============================] - 1s 3ms/sample - loss: 0.0098 - mean_absolute_error: 0.0773 - mean_squared_error: 0.0098 - val_loss: 0.0099 - val_mean_absolute_error: 0.0793 - val_mean_squared_error: 0.0099\n",
      "Epoch 100/100\n",
      "411/411 [==============================] - 1s 3ms/sample - loss: 0.0098 - mean_absolute_error: 0.0768 - mean_squared_error: 0.0098 - val_loss: 0.0090 - val_mean_absolute_error: 0.0752 - val_mean_squared_error: 0.0090\n"
     ]
    }
   ],
   "source": [
    "# initialize our initial learning rate and # of epochs to train for\n",
    "# INIT_LR = 0.01\n",
    "EPOCHS = 100\n",
    "\n",
    "# compile the model using SGD as our optimizer and categorical\n",
    "# cross-entropy loss (you'll want to use binary_crossentropy\n",
    "# for 2-class classification)\n",
    "print(\"[INFO] training network...\")\n",
    "# opt = tf.keras.optimizers.SGD(lr=INIT_LR)\n",
    "model.compile(loss=\"mse\", optimizer=\"sgd\", metrics=[\"mae\", \"mse\"])\n",
    "\n",
    "# train the neural network\n",
    "H = model.fit(\n",
    "    X_train,\n",
    "    Y_train,\n",
    "    validation_data=(X_test, Y_test),\n",
    "    epochs=EPOCHS,\n",
    "    batch_size=1,\n",
    ")"
   ]
  },
  {
   "cell_type": "code",
   "execution_count": 11,
   "metadata": {},
   "outputs": [
    {
     "name": "stdout",
     "output_type": "stream",
     "text": [
      "138/138 [==============================] - 0s 341us/sample - loss: 0.0090 - mean_absolute_error: 0.0752 - mean_squared_error: 0.0090\n",
      "mean_absolute_error: 0.07517893612384796\n",
      "mean_squared_error: 0.008987250737845898\n"
     ]
    }
   ],
   "source": [
    "# evaluate the model\n",
    "scores = model.evaluate(X_test, Y_test)\n",
    "print(\n",
    "    \"{}: {}\\n{}: {}\".format(\n",
    "        model.metrics_names[1], scores[1], model.metrics_names[2], scores[2]\n",
    "    )\n",
    ")"
   ]
  },
  {
   "cell_type": "code",
   "execution_count": 12,
   "metadata": {},
   "outputs": [],
   "source": [
    "# evaluate the model\n",
    "# print(\"[INFO] evaluating network...\")\n",
    "# predictions = model.predict(testX, batch_size=1)\n",
    "# print(\n",
    "#     classification_report(\n",
    "#         testY.argmax(axis=1),\n",
    "#         predictions.argmax(axis=1),\n",
    "#         target_names=lb.classes_,\n",
    "#     )\n",
    "# )"
   ]
  },
  {
   "cell_type": "code",
   "execution_count": 13,
   "metadata": {},
   "outputs": [
    {
     "data": {
      "image/png": "[encoded data removed]",
      "text/plain": [
       "<Figure size 432x288 with 2 Axes>"
      ]
     },
     "metadata": {},
     "output_type": "display_data"
    }
   ],
   "source": [
    "# plot the training loss, MAE and MSE\n",
    "N = np.arange(0, EPOCHS)\n",
    "plt.style.use(\"ggplot\")\n",
    "_, axs = plt.subplots(2, 1, sharex=True)\n",
    "axs[0].plot(N, H.history[\"mean_squared_error\"], label=\"train_mse\")\n",
    "axs[0].plot(N, H.history[\"val_mean_squared_error\"], label=\"val_mse\")\n",
    "axs[0].set_title(\"Training MSE\")\n",
    "axs[0].set_ylabel(\"MSE\")\n",
    "axs[0].legend()\n",
    "axs[1].plot(N, H.history[\"mean_absolute_error\"], label=\"train_mae\")\n",
    "axs[1].plot(N, H.history[\"val_mean_absolute_error\"], label=\"val_mae\")\n",
    "axs[1].set_title(\"Training MAE\")\n",
    "axs[1].set_ylabel(\"MAE\")\n",
    "axs[1].legend()\n",
    "plt.tight_layout()\n",
    "plt.xlabel(\"Epoch #\")\n",
    "plt.savefig(args[\"plot\"])"
   ]
  },
  {
   "cell_type": "code",
   "execution_count": 14,
   "metadata": {},
   "outputs": [
    {
     "name": "stdout",
     "output_type": "stream",
     "text": [
      "[INFO] serializing network...\n"
     ]
    }
   ],
   "source": [
    "# save the model to disk\n",
    "print(\"[INFO] serializing network...\")\n",
    "model.save(args[\"model\"])"
   ]
  },
  {
   "cell_type": "code",
   "execution_count": null,
   "metadata": {},
   "outputs": [],
   "source": []
  }
 ],
 "metadata": {
  "kernelspec": {
   "display_name": "Python 3",
   "language": "python",
   "name": "python3"
  },
  "language_info": {
   "codemirror_mode": {
    "name": "ipython",
    "version": 3
   },
   "file_extension": ".py",
   "mimetype": "text/x-python",
   "name": "python",
   "nbconvert_exporter": "python",
   "pygments_lexer": "ipython3",
   "version": "3.6.8"
  }
 },
 "nbformat": 4,
 "nbformat_minor": 2
}
